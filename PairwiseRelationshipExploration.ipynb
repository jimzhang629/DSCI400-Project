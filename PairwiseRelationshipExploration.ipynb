{
  "nbformat": 4,
  "nbformat_minor": 0,
  "metadata": {
    "colab": {
      "name": "PairwiseRelationshipExploration.ipynb",
      "provenance": [],
      "collapsed_sections": [],
      "authorship_tag": "ABX9TyOjWsTIb5uImkdfW4a8cKCz",
      "include_colab_link": true
    },
    "kernelspec": {
      "name": "python3",
      "display_name": "Python 3"
    }
  },
  "cells": [
    {
      "cell_type": "markdown",
      "metadata": {
        "id": "view-in-github",
        "colab_type": "text"
      },
      "source": [
        "<a href=\"https://colab.research.google.com/github/jimzhang629/DSCI400-Project/blob/laura-branch/PairwiseRelationshipExploration.ipynb\" target=\"_parent\"><img src=\"https://colab.research.google.com/assets/colab-badge.svg\" alt=\"Open In Colab\"/></a>"
      ]
    },
    {
      "cell_type": "code",
      "metadata": {
        "id": "Tu3JQv5bgOvq"
      },
      "source": [
        "!pip install wbgapi"
      ],
      "execution_count": null,
      "outputs": []
    },
    {
      "cell_type": "code",
      "metadata": {
        "id": "f2TBka3ygZKN"
      },
      "source": [
        "import seaborn as sns\r\n",
        "import wbgapi as wb\r\n",
        "\r\n",
        "sns.pairplot(wb.series.info(db=2), hue='id') # doesnt work yet\r\n",
        "print(\"test changes\")"
      ],
      "execution_count": null,
      "outputs": []
    }
  ]
}