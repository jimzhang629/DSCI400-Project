{
  "nbformat": 4,
  "nbformat_minor": 0,
  "metadata": {
    "colab": {
      "name": "PairwiseRelationshipExploration.ipynb",
      "provenance": [],
      "collapsed_sections": []
    },
    "kernelspec": {
      "name": "python3",
      "display_name": "Python 3"
    }
  },
  "cells": [
    {
      "cell_type": "code",
      "metadata": {
        "id": "Tu3JQv5bgOvq"
      },
      "source": [
        "!pip install wbgapi"
      ],
      "execution_count": null,
      "outputs": []
    },
    {
      "cell_type": "code",
      "metadata": {
        "id": "f2TBka3ygZKN"
      },
      "source": [
        "import seaborn as sns\r\n",
        "import wbgapi as wb\r\n",
        "\r\n",
        "sns.pairplot(wb.series.info(db=2), hue='id') # doesnt work yet"
      ],
      "execution_count": null,
      "outputs": []
    }
  ]
}