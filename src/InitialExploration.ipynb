{
  "cells": [
    {
      "cell_type": "code",
      "metadata": {
        "tags": [],
        "cell_id": "00000-d7909d1f-2687-461a-92e6-a4c8467d65ba",
        "deepnote_to_be_reexecuted": false,
        "source_hash": "7a553120",
        "execution_millis": 0,
        "execution_start": 1614888625321,
        "deepnote_cell_type": "code"
      },
      "source": "# Start writing code here...\n\nimport pandas as pd\nimport world_bank_data as wb\npd.set_option('display.max_rows', 6)",
      "execution_count": 2,
      "outputs": []
    },
    {
      "cell_type": "code",
      "source": "wb.get_topics()",
      "metadata": {
        "tags": [],
        "cell_id": "00002-e13343b9-a230-4d9a-89f7-4e383574123e",
        "deepnote_to_be_reexecuted": false,
        "source_hash": "890f9c9c",
        "execution_start": 1614888636358,
        "execution_millis": 127,
        "deepnote_cell_type": "code"
      },
      "outputs": [
        {
          "output_type": "execute_result",
          "execution_count": 3,
          "data": {
            "application/vnd.deepnote.dataframe.v2+json": {
              "row_count": 21,
              "column_count": 2,
              "columns": [
                {
                  "name": "value",
                  "dtype": "object",
                  "stats": {
                    "unique_count": 21,
                    "nan_count": 0,
                    "categories": [
                      {
                        "name": "Agriculture & Rural Development",
                        "count": 1
                      },
                      {
                        "name": "Aid Effectiveness",
                        "count": 1
                      },
                      {
                        "name": "19 others",
                        "count": 19
                      }
                    ]
                  }
                },
                {
                  "name": "sourceNote",
                  "dtype": "object",
                  "stats": {
                    "unique_count": 21,
                    "nan_count": 0,
                    "categories": [
                      {
                        "name": "For the 70 percent of the world's poor who live in rural areas, agriculture is the main source of income and employment. But depletion and degradation of land and water pose serious challenges to producing enough food and other agricultural products to sustain livelihoods here and meet the needs of urban populations. Data presented here include measures of agricultural inputs, outputs, and productivity compiled by the UN's Food and Agriculture Organization.",
                        "count": 1
                      },
                      {
                        "name": "Aid effectiveness is the impact that aid has in reducing poverty and inequality, increasing growth, building capacity, and accelerating achievement of the Millennium Development Goals set by the international community. Indicators here cover aid received as well as progress in reducing poverty and improving education, health, and other measures of human welfare.",
                        "count": 1
                      },
                      {
                        "name": "19 others",
                        "count": 19
                      }
                    ]
                  }
                },
                {
                  "name": "_deepnote_index_column",
                  "dtype": "object"
                }
              ],
              "rows_top": [
                {
                  "value": "Agriculture & Rural Development",
                  "sourceNote": "For the 70 percent of the world's poor who live in rural areas, agriculture is the main source of income and employment. But depletion and degradation of land and water pose serious challenges to producing enough food and other agricultural products to sustain livelihoods here and meet the needs of urban populations. Data presented here include measures of agricultural inputs, outputs, and productivity compiled by the UN's Food and Agriculture Organization.",
                  "_deepnote_index_column": "1"
                },
                {
                  "value": "Aid Effectiveness",
                  "sourceNote": "Aid effectiveness is the impact that aid has in reducing poverty and inequality, increasing growth, building capacity, and accelerating achievement of the Millennium Development Goals set by the international community. Indicators here cover aid received as well as progress in reducing poverty and improving education, health, and other measures of human welfare.",
                  "_deepnote_index_column": "2"
                },
                {
                  "value": "Economy & Growth",
                  "sourceNote": "Economic growth is central to economic development. When national income grows, real people benefit. While there is no known formula for stimulating economic growth, data can help policy-makers better understand their countries' economic situations and guide any work toward improvement. Data here covers measures of economic growth, such as gross domestic product (GDP) and gross national income (GNI). It also includes indicators representing factors known to be relevant to economic growth, such as capital stock, employment, investment, savings, consumption, government spending, imports, and exports.",
                  "_deepnote_index_column": "3"
                },
                {
                  "value": "Education",
                  "sourceNote": "Education is one of the most powerful instruments for reducing poverty and inequality and lays a foundation for sustained economic growth. The World Bank compiles data on education inputs, participation, efficiency, and outcomes. Data on education are compiled by the United Nations Educational, Scientific, and Cultural Organization (UNESCO) Institute for Statistics from official responses to surveys and from reports provided by education authorities in each country.",
                  "_deepnote_index_column": "4"
                },
                {
                  "value": "Energy & Mining",
                  "sourceNote": "The world economy needs ever-increasing amounts of energy to sustain economic growth, raise living standards, and reduce poverty. But today's trends in energy use are not sustainable. As the world's population grows and economies become more industrialized, nonrenewable energy sources will become scarcer and more costly. Data here on energy production, use, dependency, and efficiency are compiled by the World Bank from the International Energy Agency and the Carbon Dioxide Information Analysis Center.",
                  "_deepnote_index_column": "5"
                },
                {
                  "value": "Environment",
                  "sourceNote": "Natural and man-made environmental resources – fresh water, clean air, forests, grasslands, marine resources, and agro-ecosystems – provide sustenance and a foundation for social and economic development.  The need to safeguard these resources crosses all borders.  Today, the World Bank is one of the key promoters and financiers of environmental upgrading in the developing world. Data here cover forests, biodiversity, emissions, and pollution. Other indicators relevant to the environment are found under data pages for Agriculture & Rural Development, Energy & Mining, Infrastructure, and Urban Development.",
                  "_deepnote_index_column": "6"
                },
                {
                  "value": "Financial Sector",
                  "sourceNote": "An economy's financial markets are critical to its overall development. Banking systems and stock markets enhance growth, the main factor in poverty reduction. Strong financial systems provide reliable and accessible information that lowers transaction costs, which in turn bolsters resource allocation and economic growth. Indicators here include the size and liquidity of stock markets; the accessibility, stability, and efficiency of financial systems; and international migration and workers\\ remittances, which affect growth and social welfare in both sending and receiving countries.",
                  "_deepnote_index_column": "7"
                },
                {
                  "value": "Health",
                  "sourceNote": "Improving health is central to the Millennium Development Goals, and the public sector is the main provider of health care in developing countries. To reduce inequities, many countries have emphasized primary health care, including immunization, sanitation, access to safe drinking water, and safe motherhood initiatives.  Data here cover health systems, disease prevention, reproductive health, nutrition, and population dynamics. Data are from the United Nations Population Division, World Health Organization, United Nations Children's Fund, the Joint United Nations Programme on HIV/AIDS, and various other sources.",
                  "_deepnote_index_column": "8"
                },
                {
                  "value": "Infrastructure",
                  "sourceNote": "Infrastructure helps determine the success of manufacturing and agricultural activities. Investments in water, sanitation, energy, housing, and transport also improve lives and help reduce poverty. And new information and communication technologies promote growth, improve delivery of health and other services, expand the reach of education, and support social and cultural advances. Data here are compiled from such sources as the International Road Federation, Containerisation International, the International Civil Aviation Organization, the International Energy Association, and the International Telecommunications Union.",
                  "_deepnote_index_column": "9"
                },
                {
                  "value": "Social Protection & Labor",
                  "sourceNote": "The supply of labor available in an economy includes people who are employed, those who are unemployed but seeking work, and first-time job-seekers. Not everyone who works is included: unpaid workers, family workers, and students are often omitted, while some countries do not count members of the armed forces. Data on labor and employment are compiled by the International Labour Organization (ILO) from labor force surveys, censuses, establishment censuses and surveys, and administrative records such as employment exchange registers and unemployment insurance schemes.",
                  "_deepnote_index_column": "10"
                },
                {
                  "value": "Poverty",
                  "sourceNote": "For countries with an active poverty monitoring program, the World Bank—in collaboration with national institutions, other development agencies, and civil society—regularly conducts analytical work to assess the extent and causes of poverty and inequality, examine the impact of growth and public policy, and review household survey data and measurement methods.  Data here includes poverty and inequality measures generated from analytical reports, from national poverty monitoring programs, and from the World Bank’s Development Research Group which has been producing internationally comparable and global poverty estimates and lines since 1990.",
                  "_deepnote_index_column": "11"
                },
                {
                  "value": "Private Sector",
                  "sourceNote": "Private markets drive economic growth, tapping initiative and investment to create productive jobs and raise incomes. Trade is also a driver of economic growth as it integrates developing countries into the world economy and generates benefits for their people.  Data on the private sector and trade are from the World Bank Group's Private Participation in Infrastructure Project Database, Enterprise Surveys, and Doing Business Indicators, as well as from the International Monetary Fund's Balance of Payments database and International Financial Statistics, the UN Commission on Trade and Development, the World Trade Organization, and various other sources.",
                  "_deepnote_index_column": "12"
                },
                {
                  "value": "Public Sector",
                  "sourceNote": "Effective governments improve people's standard of living by ensuring access to essential services –  health, education, water and sanitation, electricity, transport – and the opportunity to live and work in peace and security. Data here includes World Bank staff assessments of country performance in economic management, structural policies, policies for social inclusion and equity, and public sector management and institutions for the poorest countries. Also included are indicators on revenues and expenses from the International Monetary Fund's Government Finance Statistics, and on tax policies from various sources.",
                  "_deepnote_index_column": "13"
                },
                {
                  "value": "Science & Technology",
                  "sourceNote": "Technological innovation, often fueled by governments, drives industrial growth and helps raise living standards. Data here aims to shed light on countries technology base: research and development, scientific and technical journal articles, high-technology exports, royalty and license fees, and patents and trademarks. Sources include the UNESCO Institute for Statistics, the U.S. National Science Board, the UN Statistics Division, the International Monetary Fund, and the World Intellectual Property Organization.",
                  "_deepnote_index_column": "14"
                },
                {
                  "value": "Social Development",
                  "sourceNote": "Data here cover child labor, gender issues, refugees, and asylum seekers. Children in many countries work long hours, often combining studying with work for pay. The data on their paid work are from household surveys conducted by the International Labour Organization (ILO), the United Nations Children's Fund (UNICEF), the World Bank, and national statistical offices. Gender disparities are measured using a compilation of data on key topics such as education, health, labor force participation, and political participation.  Data on refugees are from the United Nations High Commissioner for Refugees complemented by statistics on Palestinian refugees under the mandate of the United Nations Relief and Works Agency.",
                  "_deepnote_index_column": "15"
                },
                {
                  "value": "Urban Development",
                  "sourceNote": "Cities can be tremendously efficient. It is easier to provide water and sanitation to people living closer together, while access to health, education, and other social and cultural services is also much more readily available. However, as cities grow, the cost of meeting basic needs increases, as does the strain on the environment and natural resources. Data on urbanization, traffic and congestion, and air pollution are from the United Nations Population Division, World Health Organization, International Road Federation, World Resources Institute, and other sources.",
                  "_deepnote_index_column": "16"
                },
                {
                  "value": "Gender",
                  "sourceNote": "Gender equality is a core development objective in its own right. It is also smart development policy and sound business practice. It is integral to economic growth, business growth and good development outcomes. Gender equality can boost productivity, enhance prospects for the next generation, build resilience, and make institutions more representative and effective.  In December 2015, the World Bank Group Board discussed our new Gender Equality Strategy 2016-2023, which aims to address persistent gaps and proposed a sharpened focus on more and better gender data. The Bank Group is continually scaling up commitments and expanding partnerships to fill significant gaps in gender data. The database hosts the latest sex-disaggregated data and gender statistics covering demography, education, health, access to economic opportunities, public life and decision-making, and agency.",
                  "_deepnote_index_column": "17"
                },
                {
                  "value": "Millenium development goals",
                  "sourceNote": "",
                  "_deepnote_index_column": "18"
                },
                {
                  "value": "Climate Change",
                  "sourceNote": "Climate change is expected to hit developing countries the hardest. Its effects—higher temperatures, changes in precipitation patterns, rising sea levels, and more frequent weather-related disasters—pose risks for agriculture, food, and water supplies. At stake are recent gains in the fight against poverty, hunger and disease, and the lives and livelihoods of billions of people in developing countries. Addressing climate change requires unprecedented global cooperation across borders. The World Bank Group is helping support developing countries and contributing to a global solution, while tailoring our approach to the differing needs of developing country partners.  Data here cover climate systems, exposure to climate impacts, resilience, greenhouse gas emissions, and energy use.  Other indicators relevant to climate change are found under other data pages, particularly Environment, Agriculture & Rural Development, Energy & Mining, Health, Infrastructure, Poverty, and Urban Development.",
                  "_deepnote_index_column": "19"
                },
                {
                  "value": "External Debt",
                  "sourceNote": "Debt statistics provide a detailed picture of debt stocks and flows of developing countries. Data presented as part of the Quarterly External Debt Statistics takes a closer look at the external debt of high-income countries and emerging markets to enable a more complete understanding of global financial flows. The Quarterly Public Sector Debt database provides further data on public sector valuation methods, debt instruments, and clearly defined tiers of debt for central, state and local government, as well as extra-budgetary agencies and funds. Data are gathered from national statistical organizations and central banks as well as by various major multilateral institutions and World Bank staff.",
                  "_deepnote_index_column": "20"
                },
                {
                  "value": "Trade",
                  "sourceNote": "Trade is a key means to fight poverty and achieve the Millennium Development Goals, specifically by improving developing country access to markets, and supporting a rules based, predictable trading system. In cooperation with other international development partners, the World Bank launched the Transparency in Trade Initiative to provide free and easy access to data on country-specific trade policies.",
                  "_deepnote_index_column": "21"
                }
              ],
              "rows_bottom": null
            },
            "text/plain": "                              value  \\\nid                                    \n1   Agriculture & Rural Development   \n2                 Aid Effectiveness   \n3                  Economy & Growth   \n..                              ...   \n19                   Climate Change   \n20                    External Debt   \n21                            Trade   \n\n                                           sourceNote  \nid                                                     \n1   For the 70 percent of the world's poor who liv...  \n2   Aid effectiveness is the impact that aid has i...  \n3   Economic growth is central to economic develop...  \n..                                                ...  \n19  Climate change is expected to hit developing c...  \n20  Debt statistics provide a detailed picture of ...  \n21  Trade is a key means to fight poverty and achi...  \n\n[21 rows x 2 columns]",
            "text/html": "<div>\n<style scoped>\n    .dataframe tbody tr th:only-of-type {\n        vertical-align: middle;\n    }\n\n    .dataframe tbody tr th {\n        vertical-align: top;\n    }\n\n    .dataframe thead th {\n        text-align: right;\n    }\n</style>\n<table border=\"1\" class=\"dataframe\">\n  <thead>\n    <tr style=\"text-align: right;\">\n      <th></th>\n      <th>value</th>\n      <th>sourceNote</th>\n    </tr>\n    <tr>\n      <th>id</th>\n      <th></th>\n      <th></th>\n    </tr>\n  </thead>\n  <tbody>\n    <tr>\n      <th>1</th>\n      <td>Agriculture &amp; Rural Development</td>\n      <td>For the 70 percent of the world's poor who liv...</td>\n    </tr>\n    <tr>\n      <th>2</th>\n      <td>Aid Effectiveness</td>\n      <td>Aid effectiveness is the impact that aid has i...</td>\n    </tr>\n    <tr>\n      <th>3</th>\n      <td>Economy &amp; Growth</td>\n      <td>Economic growth is central to economic develop...</td>\n    </tr>\n    <tr>\n      <th>...</th>\n      <td>...</td>\n      <td>...</td>\n    </tr>\n    <tr>\n      <th>19</th>\n      <td>Climate Change</td>\n      <td>Climate change is expected to hit developing c...</td>\n    </tr>\n    <tr>\n      <th>20</th>\n      <td>External Debt</td>\n      <td>Debt statistics provide a detailed picture of ...</td>\n    </tr>\n    <tr>\n      <th>21</th>\n      <td>Trade</td>\n      <td>Trade is a key means to fight poverty and achi...</td>\n    </tr>\n  </tbody>\n</table>\n<p>21 rows × 2 columns</p>\n</div>"
          },
          "metadata": {}
        }
      ],
      "execution_count": 3
    },
    {
      "cell_type": "code",
      "source": "wb.get_sources()",
      "metadata": {
        "tags": [],
        "cell_id": "00002-ac7ef57b-5742-491d-a711-a3d7bf1faf49",
        "deepnote_to_be_reexecuted": false,
        "source_hash": "b224afd8",
        "execution_start": 1614888656025,
        "execution_millis": 66,
        "deepnote_cell_type": "code"
      },
      "outputs": [
        {
          "output_type": "execute_result",
          "execution_count": 4,
          "data": {
            "application/vnd.deepnote.dataframe.v2+json": {
              "row_count": 62,
              "column_count": 8,
              "columns": [
                {
                  "name": "lastupdated",
                  "dtype": "object",
                  "stats": {
                    "unique_count": 53,
                    "nan_count": 0,
                    "categories": [
                      {
                        "name": "2021-02-17",
                        "count": 2
                      },
                      {
                        "name": "2021-01-21",
                        "count": 2
                      },
                      {
                        "name": "51 others",
                        "count": 58
                      }
                    ]
                  }
                },
                {
                  "name": "name",
                  "dtype": "object",
                  "stats": {
                    "unique_count": 62,
                    "nan_count": 0,
                    "categories": [
                      {
                        "name": "Doing Business",
                        "count": 1
                      },
                      {
                        "name": "World Development Indicators",
                        "count": 1
                      },
                      {
                        "name": "60 others",
                        "count": 60
                      }
                    ]
                  }
                },
                {
                  "name": "code",
                  "dtype": "object",
                  "stats": {
                    "unique_count": 62,
                    "nan_count": 0,
                    "categories": [
                      {
                        "name": "DBS",
                        "count": 1
                      },
                      {
                        "name": "WDI",
                        "count": 1
                      },
                      {
                        "name": "60 others",
                        "count": 60
                      }
                    ]
                  }
                },
                {
                  "name": "description",
                  "dtype": "object",
                  "stats": {
                    "unique_count": 1,
                    "nan_count": 0,
                    "categories": [
                      {
                        "name": "",
                        "count": 62
                      }
                    ]
                  }
                },
                {
                  "name": "url",
                  "dtype": "object",
                  "stats": {
                    "unique_count": 1,
                    "nan_count": 0,
                    "categories": [
                      {
                        "name": "",
                        "count": 62
                      }
                    ]
                  }
                },
                {
                  "name": "dataavailability",
                  "dtype": "object",
                  "stats": {
                    "unique_count": 2,
                    "nan_count": 0,
                    "categories": [
                      {
                        "name": "Y",
                        "count": 61
                      },
                      {
                        "name": "N",
                        "count": 1
                      }
                    ]
                  }
                },
                {
                  "name": "metadataavailability",
                  "dtype": "object",
                  "stats": {
                    "unique_count": 3,
                    "nan_count": 0,
                    "categories": [
                      {
                        "name": "Y",
                        "count": 45
                      },
                      {
                        "name": "N",
                        "count": 11
                      },
                      {
                        "name": "",
                        "count": 6
                      }
                    ]
                  }
                },
                {
                  "name": "concepts",
                  "dtype": "object",
                  "stats": {
                    "unique_count": 2,
                    "nan_count": 0,
                    "categories": [
                      {
                        "name": "3",
                        "count": 51
                      },
                      {
                        "name": "4",
                        "count": 11
                      }
                    ]
                  }
                },
                {
                  "name": "_deepnote_index_column",
                  "dtype": "object"
                }
              ],
              "rows_top": [
                {
                  "lastupdated": "2019-10-23",
                  "name": "Doing Business",
                  "code": "DBS",
                  "description": "",
                  "url": "",
                  "dataavailability": "Y",
                  "metadataavailability": "Y",
                  "concepts": "3",
                  "_deepnote_index_column": "1"
                },
                {
                  "lastupdated": "2021-02-17",
                  "name": "World Development Indicators",
                  "code": "WDI",
                  "description": "",
                  "url": "",
                  "dataavailability": "Y",
                  "metadataavailability": "Y",
                  "concepts": "3",
                  "_deepnote_index_column": "2"
                },
                {
                  "lastupdated": "2020-09-28",
                  "name": "Worldwide Governance Indicators",
                  "code": "WGI",
                  "description": "",
                  "url": "",
                  "dataavailability": "Y",
                  "metadataavailability": "Y",
                  "concepts": "3",
                  "_deepnote_index_column": "3"
                },
                {
                  "lastupdated": "2016-03-21",
                  "name": "Subnational Malnutrition Database",
                  "code": "SNM",
                  "description": "",
                  "url": "",
                  "dataavailability": "Y",
                  "metadataavailability": "Y",
                  "concepts": "3",
                  "_deepnote_index_column": "5"
                },
                {
                  "lastupdated": "2021-01-21",
                  "name": "International Debt Statistics",
                  "code": "IDS",
                  "description": "",
                  "url": "",
                  "dataavailability": "Y",
                  "metadataavailability": "Y",
                  "concepts": "4",
                  "_deepnote_index_column": "6"
                },
                {
                  "lastupdated": "2013-02-22",
                  "name": "Africa Development Indicators",
                  "code": "ADI",
                  "description": "",
                  "url": "",
                  "dataavailability": "Y",
                  "metadataavailability": "Y",
                  "concepts": "3",
                  "_deepnote_index_column": "11"
                },
                {
                  "lastupdated": "2020-12-20",
                  "name": "Education Statistics",
                  "code": "EDS",
                  "description": "",
                  "url": "",
                  "dataavailability": "Y",
                  "metadataavailability": "Y",
                  "concepts": "3",
                  "_deepnote_index_column": "12"
                },
                {
                  "lastupdated": "2017-01-03",
                  "name": "Enterprise Surveys",
                  "code": "ESY",
                  "description": "",
                  "url": "",
                  "dataavailability": "Y",
                  "metadataavailability": "Y",
                  "concepts": "3",
                  "_deepnote_index_column": "13"
                },
                {
                  "lastupdated": "2021-02-23",
                  "name": "Gender Statistics",
                  "code": "GDS",
                  "description": "",
                  "url": "",
                  "dataavailability": "Y",
                  "metadataavailability": "Y",
                  "concepts": "3",
                  "_deepnote_index_column": "14"
                },
                {
                  "lastupdated": "2020-07-27",
                  "name": "Global Economic Monitor",
                  "code": "GEM",
                  "description": "",
                  "url": "",
                  "dataavailability": "Y",
                  "metadataavailability": "Y",
                  "concepts": "3",
                  "_deepnote_index_column": "15"
                },
                {
                  "lastupdated": "2020-12-18",
                  "name": "Health Nutrition and Population Statistics",
                  "code": "HNP",
                  "description": "",
                  "url": "",
                  "dataavailability": "Y",
                  "metadataavailability": "Y",
                  "concepts": "3",
                  "_deepnote_index_column": "16"
                },
                {
                  "lastupdated": "2020-07-07",
                  "name": "IDA Results Measurement System",
                  "code": "IDA",
                  "description": "",
                  "url": "",
                  "dataavailability": "Y",
                  "metadataavailability": "Y",
                  "concepts": "3",
                  "_deepnote_index_column": "18"
                },
                {
                  "lastupdated": "2018-09-19",
                  "name": "Millennium Development Goals",
                  "code": "MDG",
                  "description": "",
                  "url": "",
                  "dataavailability": "Y",
                  "metadataavailability": "Y",
                  "concepts": "3",
                  "_deepnote_index_column": "19"
                },
                {
                  "lastupdated": "2021-03-02",
                  "name": "Quarterly Public Sector Debt",
                  "code": "PSD",
                  "description": "",
                  "url": "",
                  "dataavailability": "Y",
                  "metadataavailability": "Y",
                  "concepts": "3",
                  "_deepnote_index_column": "20"
                },
                {
                  "lastupdated": "2021-01-29",
                  "name": "Quarterly External Debt Statistics SDDS",
                  "code": "QDS",
                  "description": "",
                  "url": "",
                  "dataavailability": "Y",
                  "metadataavailability": "Y",
                  "concepts": "3",
                  "_deepnote_index_column": "22"
                },
                {
                  "lastupdated": "2021-01-29",
                  "name": "Quarterly External Debt Statistics GDDS",
                  "code": "QDG",
                  "description": "",
                  "url": "",
                  "dataavailability": "Y",
                  "metadataavailability": "Y",
                  "concepts": "3",
                  "_deepnote_index_column": "23"
                },
                {
                  "lastupdated": "2020-10-07",
                  "name": "Poverty and Equity",
                  "code": "POV",
                  "description": "",
                  "url": "",
                  "dataavailability": "Y",
                  "metadataavailability": "Y",
                  "concepts": "3",
                  "_deepnote_index_column": "24"
                },
                {
                  "lastupdated": "2021-02-17",
                  "name": "Jobs",
                  "code": "JOB",
                  "description": "",
                  "url": "",
                  "dataavailability": "Y",
                  "metadataavailability": "Y",
                  "concepts": "3",
                  "_deepnote_index_column": "25"
                },
                {
                  "lastupdated": "2021-01-05",
                  "name": "Global Economic Prospects",
                  "code": "GEP",
                  "description": "",
                  "url": "",
                  "dataavailability": "Y",
                  "metadataavailability": "N",
                  "concepts": "3",
                  "_deepnote_index_column": "27"
                },
                {
                  "lastupdated": "2018-10-15",
                  "name": "Global Financial Inclusion",
                  "code": "FDX",
                  "description": "",
                  "url": "",
                  "dataavailability": "Y",
                  "metadataavailability": "Y",
                  "concepts": "3",
                  "_deepnote_index_column": "28"
                },
                {
                  "lastupdated": "2020-09-09",
                  "name": "The Atlas of Social Protection: Indicators of Resilience and Equity",
                  "code": "GSP",
                  "description": "",
                  "url": "",
                  "dataavailability": "Y",
                  "metadataavailability": "Y",
                  "concepts": "3",
                  "_deepnote_index_column": "29"
                },
                {
                  "lastupdated": "2016-03-31",
                  "name": "Exporter Dynamics Database – Indicators at Country-Year Level",
                  "code": "ED1",
                  "description": "",
                  "url": "",
                  "dataavailability": "Y",
                  "metadataavailability": "N",
                  "concepts": "3",
                  "_deepnote_index_column": "30"
                },
                {
                  "lastupdated": "2020-07-24",
                  "name": "Country Policy and Institutional Assessment",
                  "code": "CPI",
                  "description": "",
                  "url": "",
                  "dataavailability": "Y",
                  "metadataavailability": "Y",
                  "concepts": "3",
                  "_deepnote_index_column": "31"
                },
                {
                  "lastupdated": "2019-10-30",
                  "name": "Global Financial Development",
                  "code": "GFD",
                  "description": "",
                  "url": "",
                  "dataavailability": "Y",
                  "metadataavailability": "N",
                  "concepts": "3",
                  "_deepnote_index_column": "32"
                },
                {
                  "lastupdated": "2019-02-27",
                  "name": "G20 Financial Inclusion Indicators",
                  "code": "G2F",
                  "description": "",
                  "url": "",
                  "dataavailability": "Y",
                  "metadataavailability": "Y",
                  "concepts": "3",
                  "_deepnote_index_column": "33"
                },
                {
                  "lastupdated": "2013-04-12",
                  "name": "Global Partnership for Education",
                  "code": "GPE",
                  "description": "",
                  "url": "",
                  "dataavailability": "Y",
                  "metadataavailability": "Y",
                  "concepts": "3",
                  "_deepnote_index_column": "34"
                },
                {
                  "lastupdated": "2018-06-30",
                  "name": "Sustainable Energy for All",
                  "code": "SE4",
                  "description": "",
                  "url": "",
                  "dataavailability": "Y",
                  "metadataavailability": "Y",
                  "concepts": "3",
                  "_deepnote_index_column": "35"
                },
                {
                  "lastupdated": "2021-02-03",
                  "name": "Statistical Capacity Indicators",
                  "code": "BBS",
                  "description": "",
                  "url": "",
                  "dataavailability": "Y",
                  "metadataavailability": "",
                  "concepts": "3",
                  "_deepnote_index_column": "36"
                },
                {
                  "lastupdated": "2016-04-06",
                  "name": "LAC Equity Lab",
                  "code": "LEL",
                  "description": "",
                  "url": "",
                  "dataavailability": "Y",
                  "metadataavailability": "Y",
                  "concepts": "3",
                  "_deepnote_index_column": "37"
                },
                {
                  "lastupdated": "2015-04-27",
                  "name": "Subnational Poverty",
                  "code": "SNP",
                  "description": "",
                  "url": "",
                  "dataavailability": "Y",
                  "metadataavailability": "",
                  "concepts": "3",
                  "_deepnote_index_column": "38"
                },
                {
                  "lastupdated": "2020-12-21",
                  "name": "Health Nutrition and Population Statistics by Wealth Quintile",
                  "code": "HNQ",
                  "description": "",
                  "url": "",
                  "dataavailability": "Y",
                  "metadataavailability": "Y",
                  "concepts": "3",
                  "_deepnote_index_column": "39"
                },
                {
                  "lastupdated": "2020-12-18",
                  "name": "Population estimates and projections",
                  "code": "HPP",
                  "description": "",
                  "url": "",
                  "dataavailability": "Y",
                  "metadataavailability": "Y",
                  "concepts": "3",
                  "_deepnote_index_column": "40"
                },
                {
                  "lastupdated": "2015-05-22",
                  "name": "Country Partnership Strategy for India (FY2013 - 17)",
                  "code": "CPS",
                  "description": "",
                  "url": "",
                  "dataavailability": "Y",
                  "metadataavailability": "N",
                  "concepts": "3",
                  "_deepnote_index_column": "41"
                },
                {
                  "lastupdated": "2020-08-21",
                  "name": "Adjusted Net Savings",
                  "code": "WAT",
                  "description": "",
                  "url": "",
                  "dataavailability": "Y",
                  "metadataavailability": "N",
                  "concepts": "3",
                  "_deepnote_index_column": "43"
                },
                {
                  "lastupdated": "2019-05-07",
                  "name": "Indonesia Database for Policy and Economic Research",
                  "code": "IDD",
                  "description": "",
                  "url": "",
                  "dataavailability": "Y",
                  "metadataavailability": "",
                  "concepts": "3",
                  "_deepnote_index_column": "45"
                },
                {
                  "lastupdated": "2020-10-26",
                  "name": "Sustainable Development Goals ",
                  "code": "SDG",
                  "description": "",
                  "url": "",
                  "dataavailability": "Y",
                  "metadataavailability": "",
                  "concepts": "3",
                  "_deepnote_index_column": "46"
                },
                {
                  "lastupdated": "2017-09-21",
                  "name": "Subnational Population",
                  "code": "SNT",
                  "description": "",
                  "url": "",
                  "dataavailability": "Y",
                  "metadataavailability": "",
                  "concepts": "3",
                  "_deepnote_index_column": "50"
                },
                {
                  "lastupdated": "2021-02-11",
                  "name": "Joint External Debt Hub",
                  "code": "JED",
                  "description": "",
                  "url": "",
                  "dataavailability": "Y",
                  "metadataavailability": "",
                  "concepts": "3",
                  "_deepnote_index_column": "54"
                },
                {
                  "lastupdated": "2020-10-26",
                  "name": "WDI Database Archives",
                  "code": "WDA",
                  "description": "",
                  "url": "",
                  "dataavailability": "Y",
                  "metadataavailability": "Y",
                  "concepts": "4",
                  "_deepnote_index_column": "57"
                },
                {
                  "lastupdated": "2019-04-25",
                  "name": "Universal Health Coverage",
                  "code": "UHC",
                  "description": "",
                  "url": "",
                  "dataavailability": "Y",
                  "metadataavailability": "Y",
                  "concepts": "3",
                  "_deepnote_index_column": "58"
                },
                {
                  "lastupdated": "2018-01-30",
                  "name": "Wealth Accounts",
                  "code": "WAC",
                  "description": "",
                  "url": "",
                  "dataavailability": "Y",
                  "metadataavailability": "Y",
                  "concepts": "3",
                  "_deepnote_index_column": "59"
                },
                {
                  "lastupdated": "2018-04-19",
                  "name": "Economic Fitness",
                  "code": "EFT",
                  "description": "",
                  "url": "",
                  "dataavailability": "Y",
                  "metadataavailability": "Y",
                  "concepts": "3",
                  "_deepnote_index_column": "60"
                },
                {
                  "lastupdated": "2019-04-25",
                  "name": "PPPs Regulatory Quality",
                  "code": "PRQ",
                  "description": "",
                  "url": "",
                  "dataavailability": "Y",
                  "metadataavailability": "Y",
                  "concepts": "3",
                  "_deepnote_index_column": "61"
                },
                {
                  "lastupdated": "2020-08-24",
                  "name": "International Comparison Program (ICP) 2011",
                  "code": "ICP",
                  "description": "",
                  "url": "",
                  "dataavailability": "N",
                  "metadataavailability": "Y",
                  "concepts": "4",
                  "_deepnote_index_column": "62"
                },
                {
                  "lastupdated": "2020-09-21",
                  "name": "Human Capital Index",
                  "code": "HCI",
                  "description": "",
                  "url": "",
                  "dataavailability": "Y",
                  "metadataavailability": "Y",
                  "concepts": "3",
                  "_deepnote_index_column": "63"
                },
                {
                  "lastupdated": "2020-08-03",
                  "name": "Worldwide Bureaucracy Indicators",
                  "code": "WBI",
                  "description": "",
                  "url": "",
                  "dataavailability": "Y",
                  "metadataavailability": "N",
                  "concepts": "3",
                  "_deepnote_index_column": "64"
                },
                {
                  "lastupdated": "2019-11-06",
                  "name": "Health Equity and Financial Protection Indicators",
                  "code": "HPI",
                  "description": "",
                  "url": "",
                  "dataavailability": "Y",
                  "metadataavailability": "Y",
                  "concepts": "3",
                  "_deepnote_index_column": "65"
                },
                {
                  "lastupdated": "2019-10-29",
                  "name": "Logistics Performance Index",
                  "code": "LPI",
                  "description": "",
                  "url": "",
                  "dataavailability": "Y",
                  "metadataavailability": "Y",
                  "concepts": "3",
                  "_deepnote_index_column": "66"
                },
                {
                  "lastupdated": "2020-10-27",
                  "name": "PEFA 2011",
                  "code": "PF1",
                  "description": "",
                  "url": "",
                  "dataavailability": "Y",
                  "metadataavailability": "Y",
                  "concepts": "4",
                  "_deepnote_index_column": "67"
                },
                {
                  "lastupdated": "2020-12-14",
                  "name": "PEFA 2016",
                  "code": "PF6",
                  "description": "",
                  "url": "",
                  "dataavailability": "Y",
                  "metadataavailability": "Y",
                  "concepts": "4",
                  "_deepnote_index_column": "68"
                },
                {
                  "lastupdated": "2019-06-27",
                  "name": "Global Financial Inclusion and Consumer Protection Survey",
                  "code": "RFA",
                  "description": "",
                  "url": "",
                  "dataavailability": "Y",
                  "metadataavailability": "Y",
                  "concepts": "3",
                  "_deepnote_index_column": "69"
                },
                {
                  "lastupdated": "2019-04-26",
                  "name": "Economic Fitness 2",
                  "code": "EF2",
                  "description": "",
                  "url": "",
                  "dataavailability": "Y",
                  "metadataavailability": "Y",
                  "concepts": "3",
                  "_deepnote_index_column": "70"
                },
                {
                  "lastupdated": "2020-08-24",
                  "name": "International Comparison Program (ICP) 2005",
                  "code": "IC5",
                  "description": "",
                  "url": "",
                  "dataavailability": "Y",
                  "metadataavailability": "N",
                  "concepts": "4",
                  "_deepnote_index_column": "71"
                },
                {
                  "lastupdated": "2019-09-10",
                  "name": "PEFA_Test",
                  "code": "PFT",
                  "description": "",
                  "url": "",
                  "dataavailability": "Y",
                  "metadataavailability": "Y",
                  "concepts": "4",
                  "_deepnote_index_column": "72"
                },
                {
                  "lastupdated": "2019-06-27",
                  "name": "Global Financial Inclusion and Consumer Protection Survey (Internal)",
                  "code": "RFI",
                  "description": "",
                  "url": "",
                  "dataavailability": "Y",
                  "metadataavailability": "Y",
                  "concepts": "3",
                  "_deepnote_index_column": "73"
                },
                {
                  "lastupdated": "2021-02-18",
                  "name": "Environment, Social and Governance (ESG) Data",
                  "code": "ESG",
                  "description": "",
                  "url": "",
                  "dataavailability": "Y",
                  "metadataavailability": "Y",
                  "concepts": "3",
                  "_deepnote_index_column": "75"
                },
                {
                  "lastupdated": "2020-12-07",
                  "name": "Remittance Prices Worldwide (Sending Countries)",
                  "code": "RWS",
                  "description": "",
                  "url": "",
                  "dataavailability": "Y",
                  "metadataavailability": "N",
                  "concepts": "3",
                  "_deepnote_index_column": "76"
                },
                {
                  "lastupdated": "2020-12-07",
                  "name": "Remittance Prices Worldwide (Receiving Countries)",
                  "code": "RWR",
                  "description": "",
                  "url": "",
                  "dataavailability": "Y",
                  "metadataavailability": "N",
                  "concepts": "3",
                  "_deepnote_index_column": "77"
                },
                {
                  "lastupdated": "2020-10-21",
                  "name": "ICP 2017",
                  "code": "IC7",
                  "description": "",
                  "url": "",
                  "dataavailability": "Y",
                  "metadataavailability": "Y",
                  "concepts": "4",
                  "_deepnote_index_column": "78"
                },
                {
                  "lastupdated": "2020-12-02",
                  "name": "PEFA_GRPFM",
                  "code": "GRP",
                  "description": "",
                  "url": "",
                  "dataavailability": "Y",
                  "metadataavailability": "Y",
                  "concepts": "4",
                  "_deepnote_index_column": "79"
                },
                {
                  "lastupdated": "2020-07-25",
                  "name": "Gender Disaggregated Labor Database (GDLD)",
                  "code": "GDL",
                  "description": "",
                  "url": "",
                  "dataavailability": "Y",
                  "metadataavailability": "N",
                  "concepts": "4",
                  "_deepnote_index_column": "80"
                },
                {
                  "lastupdated": "2021-01-21",
                  "name": " International Debt Statistics: DSSI",
                  "code": "DSI",
                  "description": "",
                  "url": "",
                  "dataavailability": "Y",
                  "metadataavailability": "N",
                  "concepts": "4",
                  "_deepnote_index_column": "81"
                }
              ],
              "rows_bottom": null
            },
            "text/plain": "   lastupdated                                        name code description  \\\nid                                                                            \n1   2019-10-23                              Doing Business  DBS               \n2   2021-02-17                World Development Indicators  WDI               \n3   2020-09-28             Worldwide Governance Indicators  WGI               \n..         ...                                         ...  ...         ...   \n79  2020-12-02                                  PEFA_GRPFM  GRP               \n80  2020-07-25  Gender Disaggregated Labor Database (GDLD)  GDL               \n81  2021-01-21         International Debt Statistics: DSSI  DSI               \n\n   url dataavailability metadataavailability concepts  \nid                                                     \n1                     Y                    Y        3  \n2                     Y                    Y        3  \n3                     Y                    Y        3  \n..  ..              ...                  ...      ...  \n79                    Y                    Y        4  \n80                    Y                    N        4  \n81                    Y                    N        4  \n\n[62 rows x 8 columns]",
            "text/html": "<div>\n<style scoped>\n    .dataframe tbody tr th:only-of-type {\n        vertical-align: middle;\n    }\n\n    .dataframe tbody tr th {\n        vertical-align: top;\n    }\n\n    .dataframe thead th {\n        text-align: right;\n    }\n</style>\n<table border=\"1\" class=\"dataframe\">\n  <thead>\n    <tr style=\"text-align: right;\">\n      <th></th>\n      <th>lastupdated</th>\n      <th>name</th>\n      <th>code</th>\n      <th>description</th>\n      <th>url</th>\n      <th>dataavailability</th>\n      <th>metadataavailability</th>\n      <th>concepts</th>\n    </tr>\n    <tr>\n      <th>id</th>\n      <th></th>\n      <th></th>\n      <th></th>\n      <th></th>\n      <th></th>\n      <th></th>\n      <th></th>\n      <th></th>\n    </tr>\n  </thead>\n  <tbody>\n    <tr>\n      <th>1</th>\n      <td>2019-10-23</td>\n      <td>Doing Business</td>\n      <td>DBS</td>\n      <td></td>\n      <td></td>\n      <td>Y</td>\n      <td>Y</td>\n      <td>3</td>\n    </tr>\n    <tr>\n      <th>2</th>\n      <td>2021-02-17</td>\n      <td>World Development Indicators</td>\n      <td>WDI</td>\n      <td></td>\n      <td></td>\n      <td>Y</td>\n      <td>Y</td>\n      <td>3</td>\n    </tr>\n    <tr>\n      <th>3</th>\n      <td>2020-09-28</td>\n      <td>Worldwide Governance Indicators</td>\n      <td>WGI</td>\n      <td></td>\n      <td></td>\n      <td>Y</td>\n      <td>Y</td>\n      <td>3</td>\n    </tr>\n    <tr>\n      <th>...</th>\n      <td>...</td>\n      <td>...</td>\n      <td>...</td>\n      <td>...</td>\n      <td>...</td>\n      <td>...</td>\n      <td>...</td>\n      <td>...</td>\n    </tr>\n    <tr>\n      <th>79</th>\n      <td>2020-12-02</td>\n      <td>PEFA_GRPFM</td>\n      <td>GRP</td>\n      <td></td>\n      <td></td>\n      <td>Y</td>\n      <td>Y</td>\n      <td>4</td>\n    </tr>\n    <tr>\n      <th>80</th>\n      <td>2020-07-25</td>\n      <td>Gender Disaggregated Labor Database (GDLD)</td>\n      <td>GDL</td>\n      <td></td>\n      <td></td>\n      <td>Y</td>\n      <td>N</td>\n      <td>4</td>\n    </tr>\n    <tr>\n      <th>81</th>\n      <td>2021-01-21</td>\n      <td>International Debt Statistics: DSSI</td>\n      <td>DSI</td>\n      <td></td>\n      <td></td>\n      <td>Y</td>\n      <td>N</td>\n      <td>4</td>\n    </tr>\n  </tbody>\n</table>\n<p>62 rows × 8 columns</p>\n</div>"
          },
          "metadata": {}
        }
      ],
      "execution_count": 4
    },
    {
      "cell_type": "code",
      "source": "wb.get_countries()",
      "metadata": {
        "tags": [],
        "cell_id": "00003-0eb8563c-832f-4c28-b90f-785035363ca7",
        "deepnote_to_be_reexecuted": false,
        "source_hash": "f5b89b08",
        "execution_start": 1614888658105,
        "execution_millis": 163,
        "deepnote_cell_type": "code"
      },
      "outputs": [
        {
          "output_type": "execute_result",
          "execution_count": 5,
          "data": {
            "application/vnd.deepnote.dataframe.v2+json": {
              "row_count": 297,
              "column_count": 9,
              "columns": [
                {
                  "name": "iso2Code",
                  "dtype": "object",
                  "stats": {
                    "unique_count": 297,
                    "nan_count": 0,
                    "categories": [
                      {
                        "name": "AW",
                        "count": 1
                      },
                      {
                        "name": "AF",
                        "count": 1
                      },
                      {
                        "name": "295 others",
                        "count": 295
                      }
                    ]
                  }
                },
                {
                  "name": "name",
                  "dtype": "object",
                  "stats": {
                    "unique_count": 297,
                    "nan_count": 0,
                    "categories": [
                      {
                        "name": "Aruba",
                        "count": 1
                      },
                      {
                        "name": "Afghanistan",
                        "count": 1
                      },
                      {
                        "name": "295 others",
                        "count": 295
                      }
                    ]
                  }
                },
                {
                  "name": "region",
                  "dtype": "object",
                  "stats": {
                    "unique_count": 8,
                    "nan_count": 0,
                    "categories": [
                      {
                        "name": "Aggregates",
                        "count": 79
                      },
                      {
                        "name": "Europe & Central Asia",
                        "count": 58
                      },
                      {
                        "name": "6 others",
                        "count": 160
                      }
                    ]
                  }
                },
                {
                  "name": "adminregion",
                  "dtype": "object",
                  "stats": {
                    "unique_count": 7,
                    "nan_count": 0,
                    "categories": [
                      {
                        "name": "",
                        "count": 162
                      },
                      {
                        "name": "Sub-Saharan Africa (excluding high income)",
                        "count": 46
                      },
                      {
                        "name": "5 others",
                        "count": 89
                      }
                    ]
                  }
                },
                {
                  "name": "incomeLevel",
                  "dtype": "object",
                  "stats": {
                    "unique_count": 5,
                    "nan_count": 0,
                    "categories": [
                      {
                        "name": "High income",
                        "count": 83
                      },
                      {
                        "name": "Aggregates",
                        "count": 79
                      },
                      {
                        "name": "3 others",
                        "count": 135
                      }
                    ]
                  }
                },
                {
                  "name": "lendingType",
                  "dtype": "object",
                  "stats": {
                    "unique_count": 5,
                    "nan_count": 0,
                    "categories": [
                      {
                        "name": "Aggregates",
                        "count": 79
                      },
                      {
                        "name": "Not classified",
                        "count": 74
                      },
                      {
                        "name": "3 others",
                        "count": 144
                      }
                    ]
                  }
                },
                {
                  "name": "capitalCity",
                  "dtype": "object",
                  "stats": {
                    "unique_count": 212,
                    "nan_count": 0,
                    "categories": [
                      {
                        "name": "",
                        "count": 86
                      },
                      {
                        "name": "Oranjestad",
                        "count": 1
                      },
                      {
                        "name": "210 others",
                        "count": 210
                      }
                    ]
                  }
                },
                {
                  "name": "longitude",
                  "dtype": "float64",
                  "stats": {
                    "unique_count": 211,
                    "nan_count": 86,
                    "min": -175.216,
                    "max": 179.089567,
                    "histogram": [
                      {
                        "bin_start": -175.216,
                        "bin_end": -139.7854433,
                        "count": 4
                      },
                      {
                        "bin_start": -139.7854433,
                        "bin_end": -104.35488660000001,
                        "count": 0
                      },
                      {
                        "bin_start": -104.35488660000001,
                        "bin_end": -68.92432990000002,
                        "count": 23
                      },
                      {
                        "bin_start": -68.92432990000002,
                        "bin_end": -33.49377320000002,
                        "count": 20
                      },
                      {
                        "bin_start": -33.49377320000002,
                        "bin_end": 1.93678349999999,
                        "count": 22
                      },
                      {
                        "bin_start": 1.93678349999999,
                        "bin_end": 37.36734019999997,
                        "count": 75
                      },
                      {
                        "bin_start": 37.36734019999997,
                        "bin_end": 72.79789689999996,
                        "count": 26
                      },
                      {
                        "bin_start": 72.79789689999996,
                        "bin_end": 108.22845359999997,
                        "count": 17
                      },
                      {
                        "bin_start": 108.22845359999997,
                        "bin_end": 143.65901029999998,
                        "count": 10
                      },
                      {
                        "bin_start": 143.65901029999998,
                        "bin_end": 179.089567,
                        "count": 14
                      }
                    ]
                  }
                },
                {
                  "name": "latitude",
                  "dtype": "float64",
                  "stats": {
                    "unique_count": 211,
                    "nan_count": 86,
                    "min": -41.2865,
                    "max": 64.1836,
                    "histogram": [
                      {
                        "bin_start": -41.2865,
                        "bin_end": -30.739489999999996,
                        "count": 5
                      },
                      {
                        "bin_start": -30.739489999999996,
                        "bin_end": -20.192479999999996,
                        "count": 10
                      },
                      {
                        "bin_start": -20.192479999999996,
                        "bin_end": -9.645469999999996,
                        "count": 13
                      },
                      {
                        "bin_start": -9.645469999999996,
                        "bin_end": 0.9015400000000042,
                        "count": 18
                      },
                      {
                        "bin_start": 0.9015400000000042,
                        "bin_end": 11.448550000000004,
                        "count": 30
                      },
                      {
                        "bin_start": 11.448550000000004,
                        "bin_end": 21.995560000000005,
                        "count": 43
                      },
                      {
                        "bin_start": 21.995560000000005,
                        "bin_end": 32.542570000000005,
                        "count": 19
                      },
                      {
                        "bin_start": 32.542570000000005,
                        "bin_end": 43.089580000000005,
                        "count": 34
                      },
                      {
                        "bin_start": 43.089580000000005,
                        "bin_end": 53.636590000000005,
                        "count": 26
                      },
                      {
                        "bin_start": 53.636590000000005,
                        "bin_end": 64.1836,
                        "count": 13
                      }
                    ]
                  }
                },
                {
                  "name": "_deepnote_index_column",
                  "dtype": "object"
                }
              ],
              "rows_top": [
                {
                  "iso2Code": "AW",
                  "name": "Aruba",
                  "region": "Latin America & Caribbean ",
                  "adminregion": "",
                  "incomeLevel": "High income",
                  "lendingType": "Not classified",
                  "capitalCity": "Oranjestad",
                  "longitude": "-70.0167",
                  "latitude": "12.5167",
                  "_deepnote_index_column": "ABW"
                },
                {
                  "iso2Code": "AF",
                  "name": "Afghanistan",
                  "region": "South Asia",
                  "adminregion": "South Asia",
                  "incomeLevel": "Low income",
                  "lendingType": "IDA",
                  "capitalCity": "Kabul",
                  "longitude": "69.1761",
                  "latitude": "34.5228",
                  "_deepnote_index_column": "AFG"
                },
                {
                  "iso2Code": "A9",
                  "name": "Africa",
                  "region": "Aggregates",
                  "adminregion": "",
                  "incomeLevel": "Aggregates",
                  "lendingType": "Aggregates",
                  "capitalCity": "",
                  "longitude": "nan",
                  "latitude": "nan",
                  "_deepnote_index_column": "AFR"
                },
                {
                  "iso2Code": "AO",
                  "name": "Angola",
                  "region": "Sub-Saharan Africa ",
                  "adminregion": "Sub-Saharan Africa (excluding high income)",
                  "incomeLevel": "Lower middle income",
                  "lendingType": "IBRD",
                  "capitalCity": "Luanda",
                  "longitude": "13.242",
                  "latitude": "-8.81155",
                  "_deepnote_index_column": "AGO"
                },
                {
                  "iso2Code": "AL",
                  "name": "Albania",
                  "region": "Europe & Central Asia",
                  "adminregion": "Europe & Central Asia (excluding high income)",
                  "incomeLevel": "Upper middle income",
                  "lendingType": "IBRD",
                  "capitalCity": "Tirane",
                  "longitude": "19.8172",
                  "latitude": "41.3317",
                  "_deepnote_index_column": "ALB"
                },
                {
                  "iso2Code": "AD",
                  "name": "Andorra",
                  "region": "Europe & Central Asia",
                  "adminregion": "",
                  "incomeLevel": "High income",
                  "lendingType": "Not classified",
                  "capitalCity": "Andorra la Vella",
                  "longitude": "1.5218",
                  "latitude": "42.5075",
                  "_deepnote_index_column": "AND"
                },
                {
                  "iso2Code": "1A",
                  "name": "Arab World",
                  "region": "Aggregates",
                  "adminregion": "",
                  "incomeLevel": "Aggregates",
                  "lendingType": "Aggregates",
                  "capitalCity": "",
                  "longitude": "nan",
                  "latitude": "nan",
                  "_deepnote_index_column": "ARB"
                },
                {
                  "iso2Code": "AE",
                  "name": "United Arab Emirates",
                  "region": "Middle East & North Africa",
                  "adminregion": "",
                  "incomeLevel": "High income",
                  "lendingType": "Not classified",
                  "capitalCity": "Abu Dhabi",
                  "longitude": "54.3705",
                  "latitude": "24.4764",
                  "_deepnote_index_column": "ARE"
                },
                {
                  "iso2Code": "AR",
                  "name": "Argentina",
                  "region": "Latin America & Caribbean ",
                  "adminregion": "Latin America & Caribbean (excluding high income)",
                  "incomeLevel": "Upper middle income",
                  "lendingType": "IBRD",
                  "capitalCity": "Buenos Aires",
                  "longitude": "-58.4173",
                  "latitude": "-34.6118",
                  "_deepnote_index_column": "ARG"
                },
                {
                  "iso2Code": "AM",
                  "name": "Armenia",
                  "region": "Europe & Central Asia",
                  "adminregion": "Europe & Central Asia (excluding high income)",
                  "incomeLevel": "Upper middle income",
                  "lendingType": "IBRD",
                  "capitalCity": "Yerevan",
                  "longitude": "44.509",
                  "latitude": "40.1596",
                  "_deepnote_index_column": "ARM"
                },
                {
                  "iso2Code": "AS",
                  "name": "American Samoa",
                  "region": "East Asia & Pacific",
                  "adminregion": "East Asia & Pacific (excluding high income)",
                  "incomeLevel": "Upper middle income",
                  "lendingType": "Not classified",
                  "capitalCity": "Pago Pago",
                  "longitude": "-170.691",
                  "latitude": "-14.2846",
                  "_deepnote_index_column": "ASM"
                },
                {
                  "iso2Code": "AG",
                  "name": "Antigua and Barbuda",
                  "region": "Latin America & Caribbean ",
                  "adminregion": "",
                  "incomeLevel": "High income",
                  "lendingType": "IBRD",
                  "capitalCity": "Saint John's",
                  "longitude": "-61.8456",
                  "latitude": "17.1175",
                  "_deepnote_index_column": "ATG"
                },
                {
                  "iso2Code": "AU",
                  "name": "Australia",
                  "region": "East Asia & Pacific",
                  "adminregion": "",
                  "incomeLevel": "High income",
                  "lendingType": "Not classified",
                  "capitalCity": "Canberra",
                  "longitude": "149.129",
                  "latitude": "-35.282",
                  "_deepnote_index_column": "AUS"
                },
                {
                  "iso2Code": "AT",
                  "name": "Austria",
                  "region": "Europe & Central Asia",
                  "adminregion": "",
                  "incomeLevel": "High income",
                  "lendingType": "Not classified",
                  "capitalCity": "Vienna",
                  "longitude": "16.3798",
                  "latitude": "48.2201",
                  "_deepnote_index_column": "AUT"
                },
                {
                  "iso2Code": "AZ",
                  "name": "Azerbaijan",
                  "region": "Europe & Central Asia",
                  "adminregion": "Europe & Central Asia (excluding high income)",
                  "incomeLevel": "Upper middle income",
                  "lendingType": "IBRD",
                  "capitalCity": "Baku",
                  "longitude": "49.8932",
                  "latitude": "40.3834",
                  "_deepnote_index_column": "AZE"
                },
                {
                  "iso2Code": "BI",
                  "name": "Burundi",
                  "region": "Sub-Saharan Africa ",
                  "adminregion": "Sub-Saharan Africa (excluding high income)",
                  "incomeLevel": "Low income",
                  "lendingType": "IDA",
                  "capitalCity": "Bujumbura",
                  "longitude": "29.3639",
                  "latitude": "-3.3784",
                  "_deepnote_index_column": "BDI"
                },
                {
                  "iso2Code": "B4",
                  "name": "East Asia & Pacific (IBRD-only countries)",
                  "region": "Aggregates",
                  "adminregion": "",
                  "incomeLevel": "Aggregates",
                  "lendingType": "Aggregates",
                  "capitalCity": "",
                  "longitude": "nan",
                  "latitude": "nan",
                  "_deepnote_index_column": "BEA"
                },
                {
                  "iso2Code": "B7",
                  "name": "Europe & Central Asia (IBRD-only countries)",
                  "region": "Aggregates",
                  "adminregion": "",
                  "incomeLevel": "Aggregates",
                  "lendingType": "Aggregates",
                  "capitalCity": "",
                  "longitude": "nan",
                  "latitude": "nan",
                  "_deepnote_index_column": "BEC"
                },
                {
                  "iso2Code": "BE",
                  "name": "Belgium",
                  "region": "Europe & Central Asia",
                  "adminregion": "",
                  "incomeLevel": "High income",
                  "lendingType": "Not classified",
                  "capitalCity": "Brussels",
                  "longitude": "4.36761",
                  "latitude": "50.8371",
                  "_deepnote_index_column": "BEL"
                },
                {
                  "iso2Code": "BJ",
                  "name": "Benin",
                  "region": "Sub-Saharan Africa ",
                  "adminregion": "Sub-Saharan Africa (excluding high income)",
                  "incomeLevel": "Lower middle income",
                  "lendingType": "IDA",
                  "capitalCity": "Porto-Novo",
                  "longitude": "2.6323",
                  "latitude": "6.4779",
                  "_deepnote_index_column": "BEN"
                },
                {
                  "iso2Code": "BF",
                  "name": "Burkina Faso",
                  "region": "Sub-Saharan Africa ",
                  "adminregion": "Sub-Saharan Africa (excluding high income)",
                  "incomeLevel": "Low income",
                  "lendingType": "IDA",
                  "capitalCity": "Ouagadougou",
                  "longitude": "-1.53395",
                  "latitude": "12.3605",
                  "_deepnote_index_column": "BFA"
                },
                {
                  "iso2Code": "BD",
                  "name": "Bangladesh",
                  "region": "South Asia",
                  "adminregion": "South Asia",
                  "incomeLevel": "Lower middle income",
                  "lendingType": "IDA",
                  "capitalCity": "Dhaka",
                  "longitude": "90.4113",
                  "latitude": "23.7055",
                  "_deepnote_index_column": "BGD"
                },
                {
                  "iso2Code": "BG",
                  "name": "Bulgaria",
                  "region": "Europe & Central Asia",
                  "adminregion": "Europe & Central Asia (excluding high income)",
                  "incomeLevel": "Upper middle income",
                  "lendingType": "IBRD",
                  "capitalCity": "Sofia",
                  "longitude": "23.3238",
                  "latitude": "42.7105",
                  "_deepnote_index_column": "BGR"
                },
                {
                  "iso2Code": "B1",
                  "name": "IBRD countries classified as high income",
                  "region": "Aggregates",
                  "adminregion": "",
                  "incomeLevel": "Aggregates",
                  "lendingType": "Aggregates",
                  "capitalCity": "",
                  "longitude": "nan",
                  "latitude": "nan",
                  "_deepnote_index_column": "BHI"
                },
                {
                  "iso2Code": "BH",
                  "name": "Bahrain",
                  "region": "Middle East & North Africa",
                  "adminregion": "",
                  "incomeLevel": "High income",
                  "lendingType": "Not classified",
                  "capitalCity": "Manama",
                  "longitude": "50.5354",
                  "latitude": "26.1921",
                  "_deepnote_index_column": "BHR"
                },
                {
                  "iso2Code": "BS",
                  "name": "Bahamas, The",
                  "region": "Latin America & Caribbean ",
                  "adminregion": "",
                  "incomeLevel": "High income",
                  "lendingType": "Not classified",
                  "capitalCity": "Nassau",
                  "longitude": "-77.339",
                  "latitude": "25.0661",
                  "_deepnote_index_column": "BHS"
                },
                {
                  "iso2Code": "BA",
                  "name": "Bosnia and Herzegovina",
                  "region": "Europe & Central Asia",
                  "adminregion": "Europe & Central Asia (excluding high income)",
                  "incomeLevel": "Upper middle income",
                  "lendingType": "IBRD",
                  "capitalCity": "Sarajevo",
                  "longitude": "18.4214",
                  "latitude": "43.8607",
                  "_deepnote_index_column": "BIH"
                },
                {
                  "iso2Code": "B2",
                  "name": "Latin America & the Caribbean (IBRD-only countries)",
                  "region": "Aggregates",
                  "adminregion": "",
                  "incomeLevel": "Aggregates",
                  "lendingType": "Aggregates",
                  "capitalCity": "",
                  "longitude": "nan",
                  "latitude": "nan",
                  "_deepnote_index_column": "BLA"
                },
                {
                  "iso2Code": "BY",
                  "name": "Belarus",
                  "region": "Europe & Central Asia",
                  "adminregion": "Europe & Central Asia (excluding high income)",
                  "incomeLevel": "Upper middle income",
                  "lendingType": "IBRD",
                  "capitalCity": "Minsk",
                  "longitude": "27.5766",
                  "latitude": "53.9678",
                  "_deepnote_index_column": "BLR"
                },
                {
                  "iso2Code": "BZ",
                  "name": "Belize",
                  "region": "Latin America & Caribbean ",
                  "adminregion": "Latin America & Caribbean (excluding high income)",
                  "incomeLevel": "Upper middle income",
                  "lendingType": "IBRD",
                  "capitalCity": "Belmopan",
                  "longitude": "-88.7713",
                  "latitude": "17.2534",
                  "_deepnote_index_column": "BLZ"
                },
                {
                  "iso2Code": "B3",
                  "name": "Middle East & North Africa (IBRD-only countries)",
                  "region": "Aggregates",
                  "adminregion": "",
                  "incomeLevel": "Aggregates",
                  "lendingType": "Aggregates",
                  "capitalCity": "",
                  "longitude": "nan",
                  "latitude": "nan",
                  "_deepnote_index_column": "BMN"
                },
                {
                  "iso2Code": "BM",
                  "name": "Bermuda",
                  "region": "North America",
                  "adminregion": "",
                  "incomeLevel": "High income",
                  "lendingType": "Not classified",
                  "capitalCity": "Hamilton",
                  "longitude": "-64.706",
                  "latitude": "32.3293",
                  "_deepnote_index_column": "BMU"
                },
                {
                  "iso2Code": "BO",
                  "name": "Bolivia",
                  "region": "Latin America & Caribbean ",
                  "adminregion": "Latin America & Caribbean (excluding high income)",
                  "incomeLevel": "Lower middle income",
                  "lendingType": "IBRD",
                  "capitalCity": "La Paz",
                  "longitude": "-66.1936",
                  "latitude": "-13.9908",
                  "_deepnote_index_column": "BOL"
                },
                {
                  "iso2Code": "BR",
                  "name": "Brazil",
                  "region": "Latin America & Caribbean ",
                  "adminregion": "Latin America & Caribbean (excluding high income)",
                  "incomeLevel": "Upper middle income",
                  "lendingType": "IBRD",
                  "capitalCity": "Brasilia",
                  "longitude": "-47.9292",
                  "latitude": "-15.7801",
                  "_deepnote_index_column": "BRA"
                },
                {
                  "iso2Code": "BB",
                  "name": "Barbados",
                  "region": "Latin America & Caribbean ",
                  "adminregion": "",
                  "incomeLevel": "High income",
                  "lendingType": "Not classified",
                  "capitalCity": "Bridgetown",
                  "longitude": "-59.6105",
                  "latitude": "13.0935",
                  "_deepnote_index_column": "BRB"
                },
                {
                  "iso2Code": "BN",
                  "name": "Brunei Darussalam",
                  "region": "East Asia & Pacific",
                  "adminregion": "",
                  "incomeLevel": "High income",
                  "lendingType": "Not classified",
                  "capitalCity": "Bandar Seri Begawan",
                  "longitude": "114.946",
                  "latitude": "4.94199",
                  "_deepnote_index_column": "BRN"
                },
                {
                  "iso2Code": "B6",
                  "name": "Sub-Saharan Africa (IBRD-only countries)",
                  "region": "Aggregates",
                  "adminregion": "",
                  "incomeLevel": "Aggregates",
                  "lendingType": "Aggregates",
                  "capitalCity": "",
                  "longitude": "nan",
                  "latitude": "nan",
                  "_deepnote_index_column": "BSS"
                },
                {
                  "iso2Code": "BT",
                  "name": "Bhutan",
                  "region": "South Asia",
                  "adminregion": "South Asia",
                  "incomeLevel": "Lower middle income",
                  "lendingType": "IDA",
                  "capitalCity": "Thimphu",
                  "longitude": "89.6177",
                  "latitude": "27.5768",
                  "_deepnote_index_column": "BTN"
                },
                {
                  "iso2Code": "BW",
                  "name": "Botswana",
                  "region": "Sub-Saharan Africa ",
                  "adminregion": "Sub-Saharan Africa (excluding high income)",
                  "incomeLevel": "Upper middle income",
                  "lendingType": "IBRD",
                  "capitalCity": "Gaborone",
                  "longitude": "25.9201",
                  "latitude": "-24.6544",
                  "_deepnote_index_column": "BWA"
                },
                {
                  "iso2Code": "C9",
                  "name": "Sub-Saharan Africa (IFC classification)",
                  "region": "Aggregates",
                  "adminregion": "",
                  "incomeLevel": "Aggregates",
                  "lendingType": "Aggregates",
                  "capitalCity": "",
                  "longitude": "nan",
                  "latitude": "nan",
                  "_deepnote_index_column": "CAA"
                },
                {
                  "iso2Code": "CF",
                  "name": "Central African Republic",
                  "region": "Sub-Saharan Africa ",
                  "adminregion": "Sub-Saharan Africa (excluding high income)",
                  "incomeLevel": "Low income",
                  "lendingType": "IDA",
                  "capitalCity": "Bangui",
                  "longitude": "21.6407",
                  "latitude": "5.63056",
                  "_deepnote_index_column": "CAF"
                },
                {
                  "iso2Code": "CA",
                  "name": "Canada",
                  "region": "North America",
                  "adminregion": "",
                  "incomeLevel": "High income",
                  "lendingType": "Not classified",
                  "capitalCity": "Ottawa",
                  "longitude": "-75.6919",
                  "latitude": "45.4215",
                  "_deepnote_index_column": "CAN"
                },
                {
                  "iso2Code": "C4",
                  "name": "East Asia and the Pacific (IFC classification)",
                  "region": "Aggregates",
                  "adminregion": "",
                  "incomeLevel": "Aggregates",
                  "lendingType": "Aggregates",
                  "capitalCity": "",
                  "longitude": "nan",
                  "latitude": "nan",
                  "_deepnote_index_column": "CEA"
                },
                {
                  "iso2Code": "B8",
                  "name": "Central Europe and the Baltics",
                  "region": "Aggregates",
                  "adminregion": "",
                  "incomeLevel": "Aggregates",
                  "lendingType": "Aggregates",
                  "capitalCity": "",
                  "longitude": "nan",
                  "latitude": "nan",
                  "_deepnote_index_column": "CEB"
                },
                {
                  "iso2Code": "C5",
                  "name": "Europe and Central Asia (IFC classification)",
                  "region": "Aggregates",
                  "adminregion": "",
                  "incomeLevel": "Aggregates",
                  "lendingType": "Aggregates",
                  "capitalCity": "",
                  "longitude": "nan",
                  "latitude": "nan",
                  "_deepnote_index_column": "CEU"
                },
                {
                  "iso2Code": "CH",
                  "name": "Switzerland",
                  "region": "Europe & Central Asia",
                  "adminregion": "",
                  "incomeLevel": "High income",
                  "lendingType": "Not classified",
                  "capitalCity": "Bern",
                  "longitude": "7.44821",
                  "latitude": "46.948",
                  "_deepnote_index_column": "CHE"
                },
                {
                  "iso2Code": "JG",
                  "name": "Channel Islands",
                  "region": "Europe & Central Asia",
                  "adminregion": "",
                  "incomeLevel": "High income",
                  "lendingType": "Not classified",
                  "capitalCity": "",
                  "longitude": "nan",
                  "latitude": "nan",
                  "_deepnote_index_column": "CHI"
                },
                {
                  "iso2Code": "CL",
                  "name": "Chile",
                  "region": "Latin America & Caribbean ",
                  "adminregion": "",
                  "incomeLevel": "High income",
                  "lendingType": "IBRD",
                  "capitalCity": "Santiago",
                  "longitude": "-70.6475",
                  "latitude": "-33.475",
                  "_deepnote_index_column": "CHL"
                },
                {
                  "iso2Code": "CN",
                  "name": "China",
                  "region": "East Asia & Pacific",
                  "adminregion": "East Asia & Pacific (excluding high income)",
                  "incomeLevel": "Upper middle income",
                  "lendingType": "IBRD",
                  "capitalCity": "Beijing",
                  "longitude": "116.286",
                  "latitude": "40.0495",
                  "_deepnote_index_column": "CHN"
                },
                {
                  "iso2Code": "CI",
                  "name": "Cote d'Ivoire",
                  "region": "Sub-Saharan Africa ",
                  "adminregion": "Sub-Saharan Africa (excluding high income)",
                  "incomeLevel": "Lower middle income",
                  "lendingType": "IDA",
                  "capitalCity": "Yamoussoukro",
                  "longitude": "-4.0305",
                  "latitude": "5.332",
                  "_deepnote_index_column": "CIV"
                },
                {
                  "iso2Code": "C6",
                  "name": "Latin America and the Caribbean (IFC classification)",
                  "region": "Aggregates",
                  "adminregion": "",
                  "incomeLevel": "Aggregates",
                  "lendingType": "Aggregates",
                  "capitalCity": "",
                  "longitude": "nan",
                  "latitude": "nan",
                  "_deepnote_index_column": "CLA"
                },
                {
                  "iso2Code": "C7",
                  "name": "Middle East and North Africa (IFC classification)",
                  "region": "Aggregates",
                  "adminregion": "",
                  "incomeLevel": "Aggregates",
                  "lendingType": "Aggregates",
                  "capitalCity": "",
                  "longitude": "nan",
                  "latitude": "nan",
                  "_deepnote_index_column": "CME"
                },
                {
                  "iso2Code": "CM",
                  "name": "Cameroon",
                  "region": "Sub-Saharan Africa ",
                  "adminregion": "Sub-Saharan Africa (excluding high income)",
                  "incomeLevel": "Lower middle income",
                  "lendingType": "Blend",
                  "capitalCity": "Yaounde",
                  "longitude": "11.5174",
                  "latitude": "3.8721",
                  "_deepnote_index_column": "CMR"
                },
                {
                  "iso2Code": "CD",
                  "name": "Congo, Dem. Rep.",
                  "region": "Sub-Saharan Africa ",
                  "adminregion": "Sub-Saharan Africa (excluding high income)",
                  "incomeLevel": "Low income",
                  "lendingType": "IDA",
                  "capitalCity": "Kinshasa",
                  "longitude": "15.3222",
                  "latitude": "-4.325",
                  "_deepnote_index_column": "COD"
                },
                {
                  "iso2Code": "CG",
                  "name": "Congo, Rep.",
                  "region": "Sub-Saharan Africa ",
                  "adminregion": "Sub-Saharan Africa (excluding high income)",
                  "incomeLevel": "Lower middle income",
                  "lendingType": "Blend",
                  "capitalCity": "Brazzaville",
                  "longitude": "15.2662",
                  "latitude": "-4.2767",
                  "_deepnote_index_column": "COG"
                }
              ],
              "rows_bottom": [
                {
                  "iso2Code": "SO",
                  "name": "Somalia",
                  "region": "Sub-Saharan Africa ",
                  "adminregion": "Sub-Saharan Africa (excluding high income)",
                  "incomeLevel": "Low income",
                  "lendingType": "IDA",
                  "capitalCity": "Mogadishu",
                  "longitude": "45.3254",
                  "latitude": "2.07515",
                  "_deepnote_index_column": "SOM"
                },
                {
                  "iso2Code": "RS",
                  "name": "Serbia",
                  "region": "Europe & Central Asia",
                  "adminregion": "Europe & Central Asia (excluding high income)",
                  "incomeLevel": "Upper middle income",
                  "lendingType": "IBRD",
                  "capitalCity": "Belgrade",
                  "longitude": "20.4656",
                  "latitude": "44.8024",
                  "_deepnote_index_column": "SRB"
                },
                {
                  "iso2Code": "ZF",
                  "name": "Sub-Saharan Africa (excluding high income)",
                  "region": "Aggregates",
                  "adminregion": "",
                  "incomeLevel": "Aggregates",
                  "lendingType": "Aggregates",
                  "capitalCity": "",
                  "longitude": "nan",
                  "latitude": "nan",
                  "_deepnote_index_column": "SSA"
                },
                {
                  "iso2Code": "SS",
                  "name": "South Sudan",
                  "region": "Sub-Saharan Africa ",
                  "adminregion": "Sub-Saharan Africa (excluding high income)",
                  "incomeLevel": "Low income",
                  "lendingType": "IDA",
                  "capitalCity": "Juba",
                  "longitude": "31.6",
                  "latitude": "4.85",
                  "_deepnote_index_column": "SSD"
                },
                {
                  "iso2Code": "ZG",
                  "name": "Sub-Saharan Africa ",
                  "region": "Aggregates",
                  "adminregion": "",
                  "incomeLevel": "Aggregates",
                  "lendingType": "Aggregates",
                  "capitalCity": "",
                  "longitude": "nan",
                  "latitude": "nan",
                  "_deepnote_index_column": "SSF"
                },
                {
                  "iso2Code": "S1",
                  "name": "Small states",
                  "region": "Aggregates",
                  "adminregion": "",
                  "incomeLevel": "Aggregates",
                  "lendingType": "Aggregates",
                  "capitalCity": "",
                  "longitude": "nan",
                  "latitude": "nan",
                  "_deepnote_index_column": "SST"
                },
                {
                  "iso2Code": "ST",
                  "name": "Sao Tome and Principe",
                  "region": "Sub-Saharan Africa ",
                  "adminregion": "Sub-Saharan Africa (excluding high income)",
                  "incomeLevel": "Lower middle income",
                  "lendingType": "IDA",
                  "capitalCity": "Sao Tome",
                  "longitude": "6.6071",
                  "latitude": "0.20618",
                  "_deepnote_index_column": "STP"
                },
                {
                  "iso2Code": "SR",
                  "name": "Suriname",
                  "region": "Latin America & Caribbean ",
                  "adminregion": "Latin America & Caribbean (excluding high income)",
                  "incomeLevel": "Upper middle income",
                  "lendingType": "IBRD",
                  "capitalCity": "Paramaribo",
                  "longitude": "-55.1679",
                  "latitude": "5.8232",
                  "_deepnote_index_column": "SUR"
                },
                {
                  "iso2Code": "SK",
                  "name": "Slovak Republic",
                  "region": "Europe & Central Asia",
                  "adminregion": "",
                  "incomeLevel": "High income",
                  "lendingType": "Not classified",
                  "capitalCity": "Bratislava",
                  "longitude": "17.1073",
                  "latitude": "48.1484",
                  "_deepnote_index_column": "SVK"
                },
                {
                  "iso2Code": "SI",
                  "name": "Slovenia",
                  "region": "Europe & Central Asia",
                  "adminregion": "",
                  "incomeLevel": "High income",
                  "lendingType": "Not classified",
                  "capitalCity": "Ljubljana",
                  "longitude": "14.5044",
                  "latitude": "46.0546",
                  "_deepnote_index_column": "SVN"
                },
                {
                  "iso2Code": "SE",
                  "name": "Sweden",
                  "region": "Europe & Central Asia",
                  "adminregion": "",
                  "incomeLevel": "High income",
                  "lendingType": "Not classified",
                  "capitalCity": "Stockholm",
                  "longitude": "18.0645",
                  "latitude": "59.3327",
                  "_deepnote_index_column": "SWE"
                },
                {
                  "iso2Code": "SZ",
                  "name": "Eswatini",
                  "region": "Sub-Saharan Africa ",
                  "adminregion": "Sub-Saharan Africa (excluding high income)",
                  "incomeLevel": "Lower middle income",
                  "lendingType": "IBRD",
                  "capitalCity": "Mbabane",
                  "longitude": "31.4659",
                  "latitude": "-26.5225",
                  "_deepnote_index_column": "SWZ"
                },
                {
                  "iso2Code": "SX",
                  "name": "Sint Maarten (Dutch part)",
                  "region": "Latin America & Caribbean ",
                  "adminregion": "",
                  "incomeLevel": "High income",
                  "lendingType": "Not classified",
                  "capitalCity": "Philipsburg",
                  "longitude": "nan",
                  "latitude": "nan",
                  "_deepnote_index_column": "SXM"
                },
                {
                  "iso2Code": "A4",
                  "name": "Sub-Saharan Africa excluding South Africa",
                  "region": "Aggregates",
                  "adminregion": "",
                  "incomeLevel": "Aggregates",
                  "lendingType": "Aggregates",
                  "capitalCity": "",
                  "longitude": "nan",
                  "latitude": "nan",
                  "_deepnote_index_column": "SXZ"
                },
                {
                  "iso2Code": "SC",
                  "name": "Seychelles",
                  "region": "Sub-Saharan Africa ",
                  "adminregion": "",
                  "incomeLevel": "High income",
                  "lendingType": "IBRD",
                  "capitalCity": "Victoria",
                  "longitude": "55.4466",
                  "latitude": "-4.6309",
                  "_deepnote_index_column": "SYC"
                },
                {
                  "iso2Code": "SY",
                  "name": "Syrian Arab Republic",
                  "region": "Middle East & North Africa",
                  "adminregion": "Middle East & North Africa (excluding high income)",
                  "incomeLevel": "Low income",
                  "lendingType": "IDA",
                  "capitalCity": "Damascus",
                  "longitude": "36.3119",
                  "latitude": "33.5146",
                  "_deepnote_index_column": "SYR"
                },
                {
                  "iso2Code": "TC",
                  "name": "Turks and Caicos Islands",
                  "region": "Latin America & Caribbean ",
                  "adminregion": "",
                  "incomeLevel": "High income",
                  "lendingType": "Not classified",
                  "capitalCity": "Grand Turk",
                  "longitude": "-71.141389",
                  "latitude": "21.4602778",
                  "_deepnote_index_column": "TCA"
                },
                {
                  "iso2Code": "TD",
                  "name": "Chad",
                  "region": "Sub-Saharan Africa ",
                  "adminregion": "Sub-Saharan Africa (excluding high income)",
                  "incomeLevel": "Low income",
                  "lendingType": "IDA",
                  "capitalCity": "N'Djamena",
                  "longitude": "15.0445",
                  "latitude": "12.1048",
                  "_deepnote_index_column": "TCD"
                },
                {
                  "iso2Code": "T4",
                  "name": "East Asia & Pacific (IDA & IBRD countries)",
                  "region": "Aggregates",
                  "adminregion": "",
                  "incomeLevel": "Aggregates",
                  "lendingType": "Aggregates",
                  "capitalCity": "",
                  "longitude": "nan",
                  "latitude": "nan",
                  "_deepnote_index_column": "TEA"
                },
                {
                  "iso2Code": "T7",
                  "name": "Europe & Central Asia (IDA & IBRD countries)",
                  "region": "Aggregates",
                  "adminregion": "",
                  "incomeLevel": "Aggregates",
                  "lendingType": "Aggregates",
                  "capitalCity": "",
                  "longitude": "nan",
                  "latitude": "nan",
                  "_deepnote_index_column": "TEC"
                },
                {
                  "iso2Code": "TG",
                  "name": "Togo",
                  "region": "Sub-Saharan Africa ",
                  "adminregion": "Sub-Saharan Africa (excluding high income)",
                  "incomeLevel": "Low income",
                  "lendingType": "IDA",
                  "capitalCity": "Lome",
                  "longitude": "1.2255",
                  "latitude": "6.1228",
                  "_deepnote_index_column": "TGO"
                },
                {
                  "iso2Code": "TH",
                  "name": "Thailand",
                  "region": "East Asia & Pacific",
                  "adminregion": "East Asia & Pacific (excluding high income)",
                  "incomeLevel": "Upper middle income",
                  "lendingType": "IBRD",
                  "capitalCity": "Bangkok",
                  "longitude": "100.521",
                  "latitude": "13.7308",
                  "_deepnote_index_column": "THA"
                },
                {
                  "iso2Code": "TJ",
                  "name": "Tajikistan",
                  "region": "Europe & Central Asia",
                  "adminregion": "Europe & Central Asia (excluding high income)",
                  "incomeLevel": "Low income",
                  "lendingType": "IDA",
                  "capitalCity": "Dushanbe",
                  "longitude": "68.7864",
                  "latitude": "38.5878",
                  "_deepnote_index_column": "TJK"
                },
                {
                  "iso2Code": "TM",
                  "name": "Turkmenistan",
                  "region": "Europe & Central Asia",
                  "adminregion": "Europe & Central Asia (excluding high income)",
                  "incomeLevel": "Upper middle income",
                  "lendingType": "IBRD",
                  "capitalCity": "Ashgabat",
                  "longitude": "58.3794",
                  "latitude": "37.9509",
                  "_deepnote_index_column": "TKM"
                },
                {
                  "iso2Code": "T2",
                  "name": "Latin America & the Caribbean (IDA & IBRD countries)",
                  "region": "Aggregates",
                  "adminregion": "",
                  "incomeLevel": "Aggregates",
                  "lendingType": "Aggregates",
                  "capitalCity": "",
                  "longitude": "nan",
                  "latitude": "nan",
                  "_deepnote_index_column": "TLA"
                },
                {
                  "iso2Code": "TL",
                  "name": "Timor-Leste",
                  "region": "East Asia & Pacific",
                  "adminregion": "East Asia & Pacific (excluding high income)",
                  "incomeLevel": "Lower middle income",
                  "lendingType": "Blend",
                  "capitalCity": "Dili",
                  "longitude": "125.567",
                  "latitude": "-8.56667",
                  "_deepnote_index_column": "TLS"
                },
                {
                  "iso2Code": "T3",
                  "name": "Middle East & North Africa (IDA & IBRD countries)",
                  "region": "Aggregates",
                  "adminregion": "",
                  "incomeLevel": "Aggregates",
                  "lendingType": "Aggregates",
                  "capitalCity": "",
                  "longitude": "nan",
                  "latitude": "nan",
                  "_deepnote_index_column": "TMN"
                },
                {
                  "iso2Code": "TO",
                  "name": "Tonga",
                  "region": "East Asia & Pacific",
                  "adminregion": "East Asia & Pacific (excluding high income)",
                  "incomeLevel": "Upper middle income",
                  "lendingType": "IDA",
                  "capitalCity": "Nuku'alofa",
                  "longitude": "-175.216",
                  "latitude": "-21.136",
                  "_deepnote_index_column": "TON"
                },
                {
                  "iso2Code": "T5",
                  "name": "South Asia (IDA & IBRD)",
                  "region": "Aggregates",
                  "adminregion": "",
                  "incomeLevel": "Aggregates",
                  "lendingType": "Aggregates",
                  "capitalCity": "",
                  "longitude": "nan",
                  "latitude": "nan",
                  "_deepnote_index_column": "TSA"
                },
                {
                  "iso2Code": "T6",
                  "name": "Sub-Saharan Africa (IDA & IBRD countries)",
                  "region": "Aggregates",
                  "adminregion": "",
                  "incomeLevel": "Aggregates",
                  "lendingType": "Aggregates",
                  "capitalCity": "",
                  "longitude": "nan",
                  "latitude": "nan",
                  "_deepnote_index_column": "TSS"
                },
                {
                  "iso2Code": "TT",
                  "name": "Trinidad and Tobago",
                  "region": "Latin America & Caribbean ",
                  "adminregion": "",
                  "incomeLevel": "High income",
                  "lendingType": "IBRD",
                  "capitalCity": "Port-of-Spain",
                  "longitude": "-61.4789",
                  "latitude": "10.6596",
                  "_deepnote_index_column": "TTO"
                },
                {
                  "iso2Code": "TN",
                  "name": "Tunisia",
                  "region": "Middle East & North Africa",
                  "adminregion": "Middle East & North Africa (excluding high income)",
                  "incomeLevel": "Lower middle income",
                  "lendingType": "IBRD",
                  "capitalCity": "Tunis",
                  "longitude": "10.21",
                  "latitude": "36.7899",
                  "_deepnote_index_column": "TUN"
                },
                {
                  "iso2Code": "TR",
                  "name": "Turkey",
                  "region": "Europe & Central Asia",
                  "adminregion": "Europe & Central Asia (excluding high income)",
                  "incomeLevel": "Upper middle income",
                  "lendingType": "IBRD",
                  "capitalCity": "Ankara",
                  "longitude": "32.3606",
                  "latitude": "39.7153",
                  "_deepnote_index_column": "TUR"
                },
                {
                  "iso2Code": "TV",
                  "name": "Tuvalu",
                  "region": "East Asia & Pacific",
                  "adminregion": "East Asia & Pacific (excluding high income)",
                  "incomeLevel": "Upper middle income",
                  "lendingType": "IDA",
                  "capitalCity": "Funafuti",
                  "longitude": "179.089567",
                  "latitude": "-8.6314877",
                  "_deepnote_index_column": "TUV"
                },
                {
                  "iso2Code": "TW",
                  "name": "Taiwan, China",
                  "region": "East Asia & Pacific",
                  "adminregion": "",
                  "incomeLevel": "High income",
                  "lendingType": "Not classified",
                  "capitalCity": "",
                  "longitude": "nan",
                  "latitude": "nan",
                  "_deepnote_index_column": "TWN"
                },
                {
                  "iso2Code": "TZ",
                  "name": "Tanzania",
                  "region": "Sub-Saharan Africa ",
                  "adminregion": "Sub-Saharan Africa (excluding high income)",
                  "incomeLevel": "Lower middle income",
                  "lendingType": "IDA",
                  "capitalCity": "Dodoma",
                  "longitude": "35.7382",
                  "latitude": "-6.17486",
                  "_deepnote_index_column": "TZA"
                },
                {
                  "iso2Code": "UG",
                  "name": "Uganda",
                  "region": "Sub-Saharan Africa ",
                  "adminregion": "Sub-Saharan Africa (excluding high income)",
                  "incomeLevel": "Low income",
                  "lendingType": "IDA",
                  "capitalCity": "Kampala",
                  "longitude": "32.5729",
                  "latitude": "0.314269",
                  "_deepnote_index_column": "UGA"
                },
                {
                  "iso2Code": "UA",
                  "name": "Ukraine",
                  "region": "Europe & Central Asia",
                  "adminregion": "Europe & Central Asia (excluding high income)",
                  "incomeLevel": "Lower middle income",
                  "lendingType": "IBRD",
                  "capitalCity": "Kiev",
                  "longitude": "30.5038",
                  "latitude": "50.4536",
                  "_deepnote_index_column": "UKR"
                },
                {
                  "iso2Code": "XT",
                  "name": "Upper middle income",
                  "region": "Aggregates",
                  "adminregion": "",
                  "incomeLevel": "Aggregates",
                  "lendingType": "Aggregates",
                  "capitalCity": "",
                  "longitude": "nan",
                  "latitude": "nan",
                  "_deepnote_index_column": "UMC"
                },
                {
                  "iso2Code": "UY",
                  "name": "Uruguay",
                  "region": "Latin America & Caribbean ",
                  "adminregion": "",
                  "incomeLevel": "High income",
                  "lendingType": "IBRD",
                  "capitalCity": "Montevideo",
                  "longitude": "-56.0675",
                  "latitude": "-34.8941",
                  "_deepnote_index_column": "URY"
                },
                {
                  "iso2Code": "US",
                  "name": "United States",
                  "region": "North America",
                  "adminregion": "",
                  "incomeLevel": "High income",
                  "lendingType": "Not classified",
                  "capitalCity": "Washington D.C.",
                  "longitude": "-77.032",
                  "latitude": "38.8895",
                  "_deepnote_index_column": "USA"
                },
                {
                  "iso2Code": "UZ",
                  "name": "Uzbekistan",
                  "region": "Europe & Central Asia",
                  "adminregion": "Europe & Central Asia (excluding high income)",
                  "incomeLevel": "Lower middle income",
                  "lendingType": "Blend",
                  "capitalCity": "Tashkent",
                  "longitude": "69.269",
                  "latitude": "41.3052",
                  "_deepnote_index_column": "UZB"
                },
                {
                  "iso2Code": "VC",
                  "name": "St. Vincent and the Grenadines",
                  "region": "Latin America & Caribbean ",
                  "adminregion": "Latin America & Caribbean (excluding high income)",
                  "incomeLevel": "Upper middle income",
                  "lendingType": "Blend",
                  "capitalCity": "Kingstown",
                  "longitude": "-61.2653",
                  "latitude": "13.2035",
                  "_deepnote_index_column": "VCT"
                },
                {
                  "iso2Code": "VE",
                  "name": "Venezuela, RB",
                  "region": "Latin America & Caribbean ",
                  "adminregion": "Latin America & Caribbean (excluding high income)",
                  "incomeLevel": "Upper middle income",
                  "lendingType": "IBRD",
                  "capitalCity": "Caracas",
                  "longitude": "-69.8371",
                  "latitude": "9.08165",
                  "_deepnote_index_column": "VEN"
                },
                {
                  "iso2Code": "VG",
                  "name": "British Virgin Islands",
                  "region": "Latin America & Caribbean ",
                  "adminregion": "",
                  "incomeLevel": "High income",
                  "lendingType": "Not classified",
                  "capitalCity": "Road Town",
                  "longitude": "-64.623056",
                  "latitude": "18.431389",
                  "_deepnote_index_column": "VGB"
                },
                {
                  "iso2Code": "VI",
                  "name": "Virgin Islands (U.S.)",
                  "region": "Latin America & Caribbean ",
                  "adminregion": "",
                  "incomeLevel": "High income",
                  "lendingType": "Not classified",
                  "capitalCity": "Charlotte Amalie",
                  "longitude": "-64.8963",
                  "latitude": "18.3358",
                  "_deepnote_index_column": "VIR"
                },
                {
                  "iso2Code": "VN",
                  "name": "Vietnam",
                  "region": "East Asia & Pacific",
                  "adminregion": "East Asia & Pacific (excluding high income)",
                  "incomeLevel": "Lower middle income",
                  "lendingType": "IBRD",
                  "capitalCity": "Hanoi",
                  "longitude": "105.825",
                  "latitude": "21.0069",
                  "_deepnote_index_column": "VNM"
                },
                {
                  "iso2Code": "VU",
                  "name": "Vanuatu",
                  "region": "East Asia & Pacific",
                  "adminregion": "East Asia & Pacific (excluding high income)",
                  "incomeLevel": "Lower middle income",
                  "lendingType": "IDA",
                  "capitalCity": "Port-Vila",
                  "longitude": "168.321",
                  "latitude": "-17.7404",
                  "_deepnote_index_column": "VUT"
                },
                {
                  "iso2Code": "1W",
                  "name": "World",
                  "region": "Aggregates",
                  "adminregion": "",
                  "incomeLevel": "Aggregates",
                  "lendingType": "Aggregates",
                  "capitalCity": "",
                  "longitude": "nan",
                  "latitude": "nan",
                  "_deepnote_index_column": "WLD"
                },
                {
                  "iso2Code": "WS",
                  "name": "Samoa",
                  "region": "East Asia & Pacific",
                  "adminregion": "East Asia & Pacific (excluding high income)",
                  "incomeLevel": "Upper middle income",
                  "lendingType": "IDA",
                  "capitalCity": "Apia",
                  "longitude": "-171.752",
                  "latitude": "-13.8314",
                  "_deepnote_index_column": "WSM"
                },
                {
                  "iso2Code": "XK",
                  "name": "Kosovo",
                  "region": "Europe & Central Asia",
                  "adminregion": "Europe & Central Asia (excluding high income)",
                  "incomeLevel": "Upper middle income",
                  "lendingType": "IDA",
                  "capitalCity": "Pristina",
                  "longitude": "20.926",
                  "latitude": "42.565",
                  "_deepnote_index_column": "XKX"
                },
                {
                  "iso2Code": "A5",
                  "name": "Sub-Saharan Africa excluding South Africa and Nigeria",
                  "region": "Aggregates",
                  "adminregion": "",
                  "incomeLevel": "Aggregates",
                  "lendingType": "Aggregates",
                  "capitalCity": "",
                  "longitude": "nan",
                  "latitude": "nan",
                  "_deepnote_index_column": "XZN"
                },
                {
                  "iso2Code": "YE",
                  "name": "Yemen, Rep.",
                  "region": "Middle East & North Africa",
                  "adminregion": "Middle East & North Africa (excluding high income)",
                  "incomeLevel": "Low income",
                  "lendingType": "IDA",
                  "capitalCity": "Sana'a",
                  "longitude": "44.2075",
                  "latitude": "15.352",
                  "_deepnote_index_column": "YEM"
                },
                {
                  "iso2Code": "ZA",
                  "name": "South Africa",
                  "region": "Sub-Saharan Africa ",
                  "adminregion": "Sub-Saharan Africa (excluding high income)",
                  "incomeLevel": "Upper middle income",
                  "lendingType": "IBRD",
                  "capitalCity": "Pretoria",
                  "longitude": "28.1871",
                  "latitude": "-25.746",
                  "_deepnote_index_column": "ZAF"
                },
                {
                  "iso2Code": "ZM",
                  "name": "Zambia",
                  "region": "Sub-Saharan Africa ",
                  "adminregion": "Sub-Saharan Africa (excluding high income)",
                  "incomeLevel": "Lower middle income",
                  "lendingType": "IDA",
                  "capitalCity": "Lusaka",
                  "longitude": "28.2937",
                  "latitude": "-15.3982",
                  "_deepnote_index_column": "ZMB"
                },
                {
                  "iso2Code": "ZW",
                  "name": "Zimbabwe",
                  "region": "Sub-Saharan Africa ",
                  "adminregion": "Sub-Saharan Africa (excluding high income)",
                  "incomeLevel": "Lower middle income",
                  "lendingType": "Blend",
                  "capitalCity": "Harare",
                  "longitude": "31.0672",
                  "latitude": "-17.8312",
                  "_deepnote_index_column": "ZWE"
                }
              ]
            },
            "text/plain": "    iso2Code          name                      region  \\\nid                                                       \nABW       AW         Aruba  Latin America & Caribbean    \nAFG       AF   Afghanistan                  South Asia   \nAFR       A9        Africa                  Aggregates   \n..       ...           ...                         ...   \nZAF       ZA  South Africa         Sub-Saharan Africa    \nZMB       ZM        Zambia         Sub-Saharan Africa    \nZWE       ZW      Zimbabwe         Sub-Saharan Africa    \n\n                                    adminregion          incomeLevel  \\\nid                                                                     \nABW                                                      High income   \nAFG                                  South Asia           Low income   \nAFR                                                       Aggregates   \n..                                          ...                  ...   \nZAF  Sub-Saharan Africa (excluding high income)  Upper middle income   \nZMB  Sub-Saharan Africa (excluding high income)  Lower middle income   \nZWE  Sub-Saharan Africa (excluding high income)  Lower middle income   \n\n        lendingType capitalCity  longitude  latitude  \nid                                                    \nABW  Not classified  Oranjestad   -70.0167   12.5167  \nAFG             IDA       Kabul    69.1761   34.5228  \nAFR      Aggregates                    NaN       NaN  \n..              ...         ...        ...       ...  \nZAF            IBRD    Pretoria    28.1871  -25.7460  \nZMB             IDA      Lusaka    28.2937  -15.3982  \nZWE           Blend      Harare    31.0672  -17.8312  \n\n[297 rows x 9 columns]",
            "text/html": "<div>\n<style scoped>\n    .dataframe tbody tr th:only-of-type {\n        vertical-align: middle;\n    }\n\n    .dataframe tbody tr th {\n        vertical-align: top;\n    }\n\n    .dataframe thead th {\n        text-align: right;\n    }\n</style>\n<table border=\"1\" class=\"dataframe\">\n  <thead>\n    <tr style=\"text-align: right;\">\n      <th></th>\n      <th>iso2Code</th>\n      <th>name</th>\n      <th>region</th>\n      <th>adminregion</th>\n      <th>incomeLevel</th>\n      <th>lendingType</th>\n      <th>capitalCity</th>\n      <th>longitude</th>\n      <th>latitude</th>\n    </tr>\n    <tr>\n      <th>id</th>\n      <th></th>\n      <th></th>\n      <th></th>\n      <th></th>\n      <th></th>\n      <th></th>\n      <th></th>\n      <th></th>\n      <th></th>\n    </tr>\n  </thead>\n  <tbody>\n    <tr>\n      <th>ABW</th>\n      <td>AW</td>\n      <td>Aruba</td>\n      <td>Latin America &amp; Caribbean</td>\n      <td></td>\n      <td>High income</td>\n      <td>Not classified</td>\n      <td>Oranjestad</td>\n      <td>-70.0167</td>\n      <td>12.5167</td>\n    </tr>\n    <tr>\n      <th>AFG</th>\n      <td>AF</td>\n      <td>Afghanistan</td>\n      <td>South Asia</td>\n      <td>South Asia</td>\n      <td>Low income</td>\n      <td>IDA</td>\n      <td>Kabul</td>\n      <td>69.1761</td>\n      <td>34.5228</td>\n    </tr>\n    <tr>\n      <th>AFR</th>\n      <td>A9</td>\n      <td>Africa</td>\n      <td>Aggregates</td>\n      <td></td>\n      <td>Aggregates</td>\n      <td>Aggregates</td>\n      <td></td>\n      <td>NaN</td>\n      <td>NaN</td>\n    </tr>\n    <tr>\n      <th>...</th>\n      <td>...</td>\n      <td>...</td>\n      <td>...</td>\n      <td>...</td>\n      <td>...</td>\n      <td>...</td>\n      <td>...</td>\n      <td>...</td>\n      <td>...</td>\n    </tr>\n    <tr>\n      <th>ZAF</th>\n      <td>ZA</td>\n      <td>South Africa</td>\n      <td>Sub-Saharan Africa</td>\n      <td>Sub-Saharan Africa (excluding high income)</td>\n      <td>Upper middle income</td>\n      <td>IBRD</td>\n      <td>Pretoria</td>\n      <td>28.1871</td>\n      <td>-25.7460</td>\n    </tr>\n    <tr>\n      <th>ZMB</th>\n      <td>ZM</td>\n      <td>Zambia</td>\n      <td>Sub-Saharan Africa</td>\n      <td>Sub-Saharan Africa (excluding high income)</td>\n      <td>Lower middle income</td>\n      <td>IDA</td>\n      <td>Lusaka</td>\n      <td>28.2937</td>\n      <td>-15.3982</td>\n    </tr>\n    <tr>\n      <th>ZWE</th>\n      <td>ZW</td>\n      <td>Zimbabwe</td>\n      <td>Sub-Saharan Africa</td>\n      <td>Sub-Saharan Africa (excluding high income)</td>\n      <td>Lower middle income</td>\n      <td>Blend</td>\n      <td>Harare</td>\n      <td>31.0672</td>\n      <td>-17.8312</td>\n    </tr>\n  </tbody>\n</table>\n<p>297 rows × 9 columns</p>\n</div>"
          },
          "metadata": {}
        }
      ],
      "execution_count": 5
    },
    {
      "cell_type": "code",
      "source": "",
      "metadata": {
        "tags": [],
        "cell_id": "00004-a977476c-cc71-4f3c-b81d-f4fdbb3b8c5e",
        "deepnote_cell_type": "code"
      },
      "outputs": [],
      "execution_count": null
    },
    {
      "cell_type": "markdown",
      "source": "<a style='text-decoration:none;line-height:16px;display:flex;color:#5B5B62;padding:10px;justify-content:end;' href='https://deepnote.com?utm_source=created-in-deepnote-cell&projectId=72b1e015-02d7-48b2-beb6-dcae4caaa79e' target=\"_blank\">\n<img style='display:inline;max-height:16px;margin:0px;margin-right:7.5px;' src='data:image/svg+xml;base64,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' > </img>\nCreated in <span style='font-weight:600;margin-left:4px;'>Deepnote</span></a>",
      "metadata": {
        "tags": [],
        "created_in_deepnote_cell": true,
        "deepnote_cell_type": "markdown"
      }
    }
  ],
  "nbformat": 4,
  "nbformat_minor": 2,
  "metadata": {
    "orig_nbformat": 2,
    "deepnote_notebook_id": "fbb8ca57-f6b9-4283-a7ac-dbe8ff493177",
    "deepnote": {},
    "deepnote_execution_queue": []
  }
}