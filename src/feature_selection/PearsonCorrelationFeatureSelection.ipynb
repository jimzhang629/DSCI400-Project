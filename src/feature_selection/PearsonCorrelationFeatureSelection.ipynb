{
  "cells": [
    {
      "cell_type": "code",
      "metadata": {
        "tags": [],
        "cell_id": "00000-edfbdc80-a896-4fa7-a905-70f3859a94b8",
        "deepnote_to_be_reexecuted": false,
        "source_hash": "ce537d08",
        "execution_millis": 3209,
        "execution_start": 1615841533887,
        "deepnote_cell_type": "code"
      },
      "source": "# Start writing code here...\n!pip install wbgapi",
      "execution_count": null,
      "outputs": [
        {
          "name": "stdout",
          "text": "Collecting wbgapi\n  Downloading wbgapi-1.0.5-py3-none-any.whl (35 kB)\nRequirement already satisfied: PyYAML in /shared-libs/python3.7/py/lib/python3.7/site-packages (from wbgapi) (5.4.1)\nRequirement already satisfied: tabulate in /shared-libs/python3.7/py/lib/python3.7/site-packages (from wbgapi) (0.8.9)\nRequirement already satisfied: requests in /shared-libs/python3.7/py/lib/python3.7/site-packages (from wbgapi) (2.25.1)\nRequirement already satisfied: certifi>=2017.4.17 in /shared-libs/python3.7/py/lib/python3.7/site-packages (from requests->wbgapi) (2020.12.5)\nRequirement already satisfied: chardet<5,>=3.0.2 in /shared-libs/python3.7/py/lib/python3.7/site-packages (from requests->wbgapi) (3.0.4)\nRequirement already satisfied: urllib3<1.27,>=1.21.1 in /shared-libs/python3.7/py/lib/python3.7/site-packages (from requests->wbgapi) (1.26.3)\nRequirement already satisfied: idna<3,>=2.5 in /shared-libs/python3.7/py/lib/python3.7/site-packages (from requests->wbgapi) (2.10)\nInstalling collected packages: wbgapi\nSuccessfully installed wbgapi-1.0.5\n\u001b[33mWARNING: You are using pip version 20.1.1; however, version 21.0.1 is available.\nYou should consider upgrading via the '/root/venv/bin/python -m pip install --upgrade pip' command.\u001b[0m\n",
          "output_type": "stream"
        }
      ]
    },
    {
      "cell_type": "code",
      "metadata": {
        "tags": [],
        "cell_id": "00001-272799ae-34cb-4ba1-902d-880ce7d18f21",
        "deepnote_to_be_reexecuted": false,
        "source_hash": "91f58787",
        "execution_millis": 1120,
        "execution_start": 1615841537098,
        "deepnote_cell_type": "code"
      },
      "source": "import csv\nimport numpy as np\nimport pandas as pd\nimport re\nimport wbgapi as wb\nimport matplotlib.pyplot as plt\nimport seaborn as sns\n\n\n%matplotlib inline",
      "execution_count": null,
      "outputs": []
    },
    {
      "cell_type": "code",
      "metadata": {
        "tags": [],
        "cell_id": "00001-41f58e99-f864-4a5f-9046-046ce7405c80",
        "deepnote_to_be_reexecuted": false,
        "source_hash": "de2c5bbb",
        "execution_millis": 162043,
        "execution_start": 1615841538231,
        "deepnote_cell_type": "code"
      },
      "source": "def get_indicator_codes():\n    '''\n    (Helper function) Get list of sets of indicator codes. Each set of indicators\n    belong to the same db source.\n    '''\n    all_codes = []\n    db_nums = set(row['id'] for row in wb.source.list())\n\n    for db_iter in db_nums:\n        try:\n            indicator_set = set(row['id'] for row in wb.series.list(db=db_iter))\n            all_codes.append(indicator_set)\n        except:\n            continue # ignore db's that throw errors with invalid formats\n    \n    return all_codes\n\ndef get_iso_code(country):\n    '''\n    (Helper function) Get iso code for country.\n    country (string) -- country to get iso code for\n    '''\n    iso_code = wb.economy.coder(country)\n\n    if iso_code is None:\n        print(\"ERROR: get_iso_code could not resolve country name.\")\n        return None\n    else:\n        return iso_code\n\ndef get_specific_indicator_code(keyword):\n    '''\n    (Helper function) Get specific codes for indicators related to a keyword\n    keyword (string) -- keyword to get codes for\n    '''\n\n    indicator_codes = wb.series.info(q=keyword)\n\n    if indicator_codes is None:\n        print(\"ERROR: indicator_codes could not resolve keyword argument.\")\n        return None\n    else:\n        return indicator_codes\n\ndef get_indicators_for_country(country, min_year=None, max_year=None):\n    '''\n    Get dataframe of indicators and respective values for specific country (and\n    possibly for specific year time range).\n    country (string) -- country specified to get indicators for\n    min_year (4-digit int) -- start year of data coverage consideration (only\n                              used if max_year also available)\n    max_year (4-digit int) -- end year of data coverage consideration, this\n                              is exclusive (e.g. max_year=2019 will only\n                              retrieve data up to 2018) (only used if max_year\n                              also available)  \n    '''\n    all_indicators = get_indicator_codes()\n    country_iso_code = get_iso_code(country)\n\n    if country_iso_code is None:\n        return pd.DataFrame({'NOTHING' : []}) # no error print needed as one will be printed in get_iso_code\n\n    ret_dfs = [] # list of all indicator df's to be later combined\n\n    for indicator_set in all_indicators:\n\n        try:\n            if min_year is not None and max_year is not None:\n                ind_df = wb.data.DataFrame(indicator_set, country_iso_code, \\\n                    time=range(min_year, max_year, 1), labels=True)\n            else:\n                ind_df = wb.data.DataFrame(indicator_set, country_iso_code, labels=True)\n\n            ret_dfs.append(ind_df)\n\n        except:\n            continue # ignore indicator df's that have fundamental formatting issues\n            \n    return pd.concat(ret_dfs, axis=0)\n\ndef filter_indicators_by_coverage(ind_df, threshold=0.0):\n    '''\n    Get set of indicators filtered by data coverage. Indicators that\n    have data coverage equal to or above 'threshold' will be included.\n    ind_df -- dataframe of indicators and their respective values\n    threshold (float) -- minimum data coverage amount                         \n    '''\n    df_cols = list(ind_df.columns)\n    year_regex = re.compile(\"^YR[0-9][0-9][0-9][0-9]\")\n    years_list = [col for col in df_cols if re.search(r\"^YR[0-9][0-9][0-9][0-9]\", col)]\n\n    ind_df['COUNT_NAN'] = ind_df[years_list].isnull().sum(axis=1)\n    ind_df['COUNT_TOT'] = len(years_list)\n    ind_df['COVERAGE_PERCENT'] = (ind_df['COUNT_TOT'] - ind_df['COUNT_NAN']) / ind_df['COUNT_TOT']\n\n    return ind_df.loc[ind_df['COVERAGE_PERCENT'] >= threshold]\n    \nif __name__ == \"__main__\":\n    '''\n    The Main Function of this file, where execution starts.\n    '''\n    ind_df = get_indicators_for_country('Colombia', 1980, 2011)\n    filtered_df = filter_indicators_by_coverage(ind_df, 1.0)\n    filtered_df.to_csv('ALL_DB_COL_data_100_threshold.csv', index=True, header=True, index_label=True)",
      "execution_count": null,
      "outputs": []
    },
    {
      "cell_type": "code",
      "metadata": {
        "tags": [],
        "cell_id": "00009-2988ded2-2bfa-427b-a583-4750c459f6c7",
        "deepnote_to_be_reexecuted": false,
        "source_hash": "b52fecd2",
        "execution_millis": 0,
        "execution_start": 1615841700294,
        "deepnote_cell_type": "code"
      },
      "source": "def indicator_dataframe(country, start_year, end_year, coverage_threshold=0.9):\n    '''\n    country (string) -- The country of interest.\n    start_year (int) -- The earliest year of interest.\n    end_year (int) -- The latest year of interest.\n    coverage_threshold -- The required indicator coverage threshold. For example, if it is 0.9, then there must exist data for 90% of the selected years.\n    '''\n    fetched_ind = get_indicators_for_country(country, start_year, end_year)\n    filtered_ind = filter_indicators_by_coverage(fetched_ind, coverage_threshold)\n    country_code = get_iso_code(country)\n    df = wb.data.DataFrame(list(filtered_ind.index), country_code, time=range(start_year, end_year), skipBlanks=True, columns='series')\n    \n    return df",
      "execution_count": null,
      "outputs": []
    },
    {
      "cell_type": "code",
      "metadata": {
        "tags": [],
        "cell_id": "00004-9368b94e-2eaa-41c0-9553-b0acfc9311ce",
        "deepnote_to_be_reexecuted": false,
        "source_hash": "739f810",
        "execution_millis": 0,
        "execution_start": 1615841700295,
        "deepnote_cell_type": "code"
      },
      "source": "def pearson_correlation_feature_selection(country, target_indicator_code, start_year, end_year, coverage_threshold = 0.9, corr_threshold = 0.8):\n    '''\n    Generates the pearson correlation matrix between a target indicator and all other indicators for a country.\n    Then, remove the indicators that fail to meet a pre-determined correlation threshold.\n\n    country (string) -- The country of interest.\n    target_indicator_code (string) -- The specific indicator code for the target indicator.\n    start_year (int) -- The earliest year of interest.\n    end_year (int) -- The latest year of interest.\n    coverage_threshold (float) -- The required indicator coverage threshold. For example, if it is 0.9, then there must exist data for 90% of the selected years.\n    corr_threshold (float) -- A correlation threshold that an indicator must meet with the target indicator in order to not be removed.\n    \n    Returns -- a dataframe of the features that meet the correlation threshold with the target indicator.\n    '''\n    if abs(corr_threshold) > 1.0:\n        print(\"ERROR: Correlation threshold must be between -1 and 1\")\n        return None\n\n\n    df = indicator_dataframe(country, start_year, end_year, coverage_threshold)\n\n    cor = df.corr()[target_indicator_code]\n    #plt.figure(figsize=(12,10)) #Plot the correlation matrix\n    #sns.heatmap(cor, annot=True, cmap=plt.cm.Reds)  \n    #plt.show()\n\n    abs_cor = abs(cor) #Absolute correlation with target variable\n    relevant_features = abs_cor[abs_cor>corr_threshold]  #Select the indicators that meet the threshold\n    return relevant_features\n\n\n\n    \n",
      "execution_count": null,
      "outputs": []
    },
    {
      "cell_type": "code",
      "metadata": {
        "tags": [],
        "cell_id": "00013-38f13e05-c4d6-4278-b47b-8a413d7bbf2b",
        "deepnote_to_be_reexecuted": false,
        "source_hash": "3c78e772",
        "execution_start": 1615841700296,
        "execution_millis": 127706,
        "deepnote_cell_type": "code"
      },
      "source": "pearson_correlation_feature_selection('Colombia', 'SP.POP.TOTL', 2011, 2013, 1, 0.9)",
      "execution_count": null,
      "outputs": [
        {
          "output_type": "execute_result",
          "execution_count": 6,
          "data": {
            "text/plain": "AG.CON.FERT.PT.ZS          1.0\nAG.CON.FERT.ZS             1.0\nAG.LND.AGRI.K2             1.0\nAG.LND.AGRI.ZS             1.0\nAG.LND.ARBL.HA             1.0\n                          ... \nper_si_allsi.cov_q1_tot    1.0\nper_si_allsi.cov_q2_tot    1.0\nper_si_allsi.cov_q3_tot    1.0\nper_si_allsi.cov_q4_tot    1.0\nper_si_allsi.cov_q5_tot    1.0\nName: SP.POP.TOTL, Length: 1010, dtype: float64"
          },
          "metadata": {}
        }
      ]
    },
    {
      "cell_type": "code",
      "metadata": {
        "tags": [],
        "cell_id": "00006-565e7b12-71f9-4cac-be1b-4cde3112d3af",
        "deepnote_cell_type": "code"
      },
      "source": "",
      "execution_count": null,
      "outputs": []
    },
    {
      "cell_type": "markdown",
      "source": "<a style='text-decoration:none;line-height:16px;display:flex;color:#5B5B62;padding:10px;justify-content:end;' href='https://deepnote.com?utm_source=created-in-deepnote-cell&projectId=72b1e015-02d7-48b2-beb6-dcae4caaa79e' target=\"_blank\">\n<img style='display:inline;max-height:16px;margin:0px;margin-right:7.5px;' src='data:image/svg+xml;base64,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' > </img>\nCreated in <span style='font-weight:600;margin-left:4px;'>Deepnote</span></a>",
      "metadata": {
        "tags": [],
        "created_in_deepnote_cell": true,
        "deepnote_cell_type": "markdown"
      }
    }
  ],
  "nbformat": 4,
  "nbformat_minor": 2,
  "metadata": {
    "orig_nbformat": 2,
    "deepnote_notebook_id": "08b2fc65-e56e-4715-aca4-9109b81ec2a1",
    "deepnote": {},
    "deepnote_execution_queue": []
  }
}